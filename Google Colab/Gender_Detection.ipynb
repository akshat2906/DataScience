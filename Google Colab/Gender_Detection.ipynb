{
  "nbformat": 4,
  "nbformat_minor": 0,
  "metadata": {
    "colab": {
      "provenance": []
    },
    "kernelspec": {
      "name": "python3",
      "display_name": "Python 3"
    },
    "language_info": {
      "name": "python"
    }
  },
  "cells": [
    {
      "cell_type": "code",
      "execution_count": null,
      "metadata": {
        "colab": {
          "base_uri": "https://localhost:8080/"
        },
        "id": "9I6WXWttHByP",
        "outputId": "14e3711f-e3f8-47e8-87e0-e33fe6133bba"
      },
      "outputs": [
        {
          "output_type": "stream",
          "name": "stdout",
          "text": [
            "Collecting cvlib\n",
            "  Downloading cvlib-0.2.7.tar.gz (13.1 MB)\n",
            "\u001b[2K     \u001b[90m━━━━━━━━━━━━━━━━━━━━━━━━━━━━━━━━━━━━━━━━\u001b[0m \u001b[32m13.1/13.1 MB\u001b[0m \u001b[31m24.4 MB/s\u001b[0m eta \u001b[36m0:00:00\u001b[0m\n",
            "\u001b[?25h  Preparing metadata (setup.py) ... \u001b[?25l\u001b[?25hdone\n",
            "Requirement already satisfied: numpy in /usr/local/lib/python3.10/dist-packages (from cvlib) (1.25.2)\n",
            "Collecting progressbar (from cvlib)\n",
            "  Downloading progressbar-2.5.tar.gz (10 kB)\n",
            "  Preparing metadata (setup.py) ... \u001b[?25l\u001b[?25hdone\n",
            "Requirement already satisfied: requests in /usr/local/lib/python3.10/dist-packages (from cvlib) (2.31.0)\n",
            "Requirement already satisfied: pillow in /usr/local/lib/python3.10/dist-packages (from cvlib) (9.4.0)\n",
            "Requirement already satisfied: imageio in /usr/local/lib/python3.10/dist-packages (from cvlib) (2.31.6)\n",
            "Requirement already satisfied: imutils in /usr/local/lib/python3.10/dist-packages (from cvlib) (0.5.4)\n",
            "Requirement already satisfied: charset-normalizer<4,>=2 in /usr/local/lib/python3.10/dist-packages (from requests->cvlib) (3.3.2)\n",
            "Requirement already satisfied: idna<4,>=2.5 in /usr/local/lib/python3.10/dist-packages (from requests->cvlib) (3.6)\n",
            "Requirement already satisfied: urllib3<3,>=1.21.1 in /usr/local/lib/python3.10/dist-packages (from requests->cvlib) (2.0.7)\n",
            "Requirement already satisfied: certifi>=2017.4.17 in /usr/local/lib/python3.10/dist-packages (from requests->cvlib) (2024.2.2)\n",
            "Building wheels for collected packages: cvlib, progressbar\n",
            "  Building wheel for cvlib (setup.py) ... \u001b[?25l\u001b[?25hdone\n",
            "  Created wheel for cvlib: filename=cvlib-0.2.7-py3-none-any.whl size=10046370 sha256=5e5bd2e5c597640952f4abdf5bd67c6b2b88fa0fc4be929e6ece4dd3b67666c8\n",
            "  Stored in directory: /root/.cache/pip/wheels/9e/a5/d4/fe37b48fe4f4b621ba5e574a991230070f3cc4f02322a01489\n",
            "  Building wheel for progressbar (setup.py) ... \u001b[?25l\u001b[?25hdone\n",
            "  Created wheel for progressbar: filename=progressbar-2.5-py3-none-any.whl size=12067 sha256=ab034474aaf7d67df5cb6c14812341ae8444274a4fa764ea5c607cd90b389197\n",
            "  Stored in directory: /root/.cache/pip/wheels/cd/17/e5/765d1a3112ff3978f70223502f6047e06c43a24d7c5f8ff95b\n",
            "Successfully built cvlib progressbar\n",
            "Installing collected packages: progressbar, cvlib\n",
            "Successfully installed cvlib-0.2.7 progressbar-2.5\n"
          ]
        }
      ],
      "source": [
        "!pip install cvlib"
      ]
    },
    {
      "cell_type": "code",
      "source": [
        "!pip install opencv-python"
      ],
      "metadata": {
        "colab": {
          "base_uri": "https://localhost:8080/"
        },
        "id": "YRZkzWhHHVod",
        "outputId": "20868f11-d336-46c7-cc79-50d7860b66ac"
      },
      "execution_count": null,
      "outputs": [
        {
          "output_type": "stream",
          "name": "stdout",
          "text": [
            "Requirement already satisfied: opencv-python in /usr/local/lib/python3.10/dist-packages (4.8.0.76)\n",
            "Requirement already satisfied: numpy>=1.21.2 in /usr/local/lib/python3.10/dist-packages (from opencv-python) (1.25.2)\n"
          ]
        }
      ]
    },
    {
      "cell_type": "code",
      "source": [
        "import cvlib as cv\n",
        "import cv2\n",
        "import numpy as np\n",
        "\n",
        "webcam = cv2.VideoCapture(0)\n",
        "\n",
        "padding = 20\n",
        "while webcam.isOpened():\n",
        "    status, frame = webcam.read()\n",
        "    face, confidence = cv.detect_face(frame)\n",
        "    for idx, f in enumerate(face):\n",
        "        (startX,startY) = max(0, f[0]-padding), max(0, f[1]-padding)\n",
        "        (endX,endY) = min(frame.shape[1]-1, f[2]+padding), min(frame.shape[0]-1, f[3]+padding)\n",
        "        cv2.rectangle(frame, (startX,startY), (endX,endY), (0,255,0), 2)\n",
        "        face_crop = np.copy(frame[startY:endY, startX:endX])\n",
        "        (label, confidence) = cv.detect_gender(face_crop)\n",
        "        idx = np.argmax(confidence)\n",
        "        label = label[idx]\n",
        "        label = \"{}: {:.2f}%\".format(label, confidence[idx] * 100)\n",
        "        Y = startY - 10 if startY - 10 > 10 else startY + 10\n",
        "        cv2.putText(frame, label, (startX,Y), cv2.FONT_HERSHEY_SIMPLEX, 0.7,\n",
        "                    (0,255,0), 2)\n",
        "    cv2.imshow(\"Real-time gender detection\", frame)\n",
        "    # press \"s\" to stop\n",
        "    if cv2.waitKey(1) & 0xFF == ord('s'):\n",
        "        break\n",
        "webcam.release()\n",
        "cv2.destroyAllWindows()"
      ],
      "metadata": {
        "id": "80pGN6C9HJP4"
      },
      "execution_count": null,
      "outputs": []
    }
  ]
}