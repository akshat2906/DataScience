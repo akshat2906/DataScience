{
  "nbformat": 4,
  "nbformat_minor": 0,
  "metadata": {
    "colab": {
      "provenance": []
    },
    "kernelspec": {
      "name": "python3",
      "display_name": "Python 3"
    },
    "language_info": {
      "name": "python"
    }
  },
  "cells": [
    {
      "cell_type": "code",
      "execution_count": null,
      "metadata": {
        "colab": {
          "base_uri": "https://localhost:8080/"
        },
        "id": "a-_iSExR2VGu",
        "outputId": "616f8c06-71b6-41d8-8ee7-e7d3d6cf9c5a"
      },
      "outputs": [
        {
          "output_type": "stream",
          "name": "stdout",
          "text": [
            "Access token obtained successfully.\n"
          ]
        }
      ],
      "source": [
        "import requests\n",
        "import base64\n",
        "\n",
        "# Replace with your own Client ID and Client Secret\n",
        "CLIENT_ID = '88c62abb75d44ffeaf9e3a9a3532fcab'\n",
        "CLIENT_SECRET = 'f1ae7480adf24aad8119723ef70772ae'\n",
        "\n",
        "# Base64 encode the client ID and client secret\n",
        "client_credentials = f\"{CLIENT_ID}:{CLIENT_SECRET}\"\n",
        "client_credentials_base64 = base64.b64encode(client_credentials.encode())\n",
        "\n",
        "# Request the access token\n",
        "token_url = 'https://accounts.spotify.com/api/token'\n",
        "headers = {\n",
        "    'Authorization': f'Basic {client_credentials_base64.decode()}'\n",
        "}\n",
        "data = {\n",
        "    'grant_type': 'client_credentials'\n",
        "}\n",
        "response = requests.post(token_url, data=data, headers=headers)\n",
        "\n",
        "if response.status_code == 200:\n",
        "    access_token = response.json()['access_token']\n",
        "    print(\"Access token obtained successfully.\")\n",
        "else:\n",
        "    print(\"Error obtaining access token.\")\n",
        "    exit()"
      ]
    },
    {
      "cell_type": "code",
      "source": [
        "!pip install spotipy"
      ],
      "metadata": {
        "colab": {
          "base_uri": "https://localhost:8080/"
        },
        "id": "0ueMO65g3cSp",
        "outputId": "bbb91443-7e94-4d77-8d12-c62d48e995f3"
      },
      "execution_count": null,
      "outputs": [
        {
          "output_type": "stream",
          "name": "stdout",
          "text": [
            "Collecting spotipy\n",
            "  Downloading spotipy-2.23.0-py3-none-any.whl (29 kB)\n",
            "Collecting redis>=3.5.3 (from spotipy)\n",
            "  Downloading redis-5.0.3-py3-none-any.whl (251 kB)\n",
            "\u001b[2K     \u001b[90m━━━━━━━━━━━━━━━━━━━━━━━━━━━━━━━━━━━━━━━━\u001b[0m \u001b[32m251.8/251.8 kB\u001b[0m \u001b[31m6.7 MB/s\u001b[0m eta \u001b[36m0:00:00\u001b[0m\n",
            "\u001b[?25hRequirement already satisfied: requests>=2.25.0 in /usr/local/lib/python3.10/dist-packages (from spotipy) (2.31.0)\n",
            "Requirement already satisfied: six>=1.15.0 in /usr/local/lib/python3.10/dist-packages (from spotipy) (1.16.0)\n",
            "Requirement already satisfied: urllib3>=1.26.0 in /usr/local/lib/python3.10/dist-packages (from spotipy) (2.0.7)\n",
            "Requirement already satisfied: async-timeout>=4.0.3 in /usr/local/lib/python3.10/dist-packages (from redis>=3.5.3->spotipy) (4.0.3)\n",
            "Requirement already satisfied: charset-normalizer<4,>=2 in /usr/local/lib/python3.10/dist-packages (from requests>=2.25.0->spotipy) (3.3.2)\n",
            "Requirement already satisfied: idna<4,>=2.5 in /usr/local/lib/python3.10/dist-packages (from requests>=2.25.0->spotipy) (3.6)\n",
            "Requirement already satisfied: certifi>=2017.4.17 in /usr/local/lib/python3.10/dist-packages (from requests>=2.25.0->spotipy) (2024.2.2)\n",
            "Installing collected packages: redis, spotipy\n",
            "Successfully installed redis-5.0.3 spotipy-2.23.0\n"
          ]
        }
      ]
    },
    {
      "cell_type": "code",
      "source": [
        "import pandas as pd\n",
        "import spotipy\n",
        "from spotipy.oauth2 import SpotifyOAuth\n",
        "\n",
        "def get_trending_playlist_data(playlist_id, access_token):\n",
        "    # Set up Spotipy with the access token\n",
        "    sp = spotipy.Spotify(auth=access_token)\n",
        "\n",
        "    # Get the tracks from the playlist\n",
        "    playlist_tracks = sp.playlist_tracks(playlist_id, fields='items(track(id, name, artists, album(id, name)))')\n",
        "\n",
        "    # Extract relevant information and store in a list of dictionaries\n",
        "    music_data = []\n",
        "    for track_info in playlist_tracks['items']:\n",
        "        track = track_info['track']\n",
        "        track_name = track['name']\n",
        "        artists = ', '.join([artist['name'] for artist in track['artists']])\n",
        "        album_name = track['album']['name']\n",
        "        album_id = track['album']['id']\n",
        "        track_id = track['id']\n",
        "\n",
        "        # Get audio features for the track\n",
        "        audio_features = sp.audio_features(track_id)[0] if track_id != 'Not available' else None\n",
        "\n",
        "        # Get release date of the album\n",
        "        try:\n",
        "            album_info = sp.album(album_id) if album_id != 'Not available' else None\n",
        "            release_date = album_info['release_date'] if album_info else None\n",
        "        except:\n",
        "            release_date = None\n",
        "\n",
        "        # Get popularity of the track\n",
        "        try:\n",
        "            track_info = sp.track(track_id) if track_id != 'Not available' else None\n",
        "            popularity = track_info['popularity'] if track_info else None\n",
        "        except:\n",
        "            popularity = None\n",
        "\n",
        "        # Add additional track information to the track data\n",
        "        track_data = {\n",
        "            'Track Name': track_name,\n",
        "            'Artists': artists,\n",
        "            'Album Name': album_name,\n",
        "            'Album ID': album_id,\n",
        "            'Track ID': track_id,\n",
        "            'Popularity': popularity,\n",
        "            'Release Date': release_date,\n",
        "            'Duration (ms)': audio_features['duration_ms'] if audio_features else None,\n",
        "            'Explicit': track_info.get('explicit', None),\n",
        "            'External URLs': track_info.get('external_urls', {}).get('spotify', None),\n",
        "            'Danceability': audio_features['danceability'] if audio_features else None,\n",
        "            'Energy': audio_features['energy'] if audio_features else None,\n",
        "            'Key': audio_features['key'] if audio_features else None,\n",
        "            'Loudness': audio_features['loudness'] if audio_features else None,\n",
        "            'Mode': audio_features['mode'] if audio_features else None,\n",
        "            'Speechiness': audio_features['speechiness'] if audio_features else None,\n",
        "            'Acousticness': audio_features['acousticness'] if audio_features else None,\n",
        "            'Instrumentalness': audio_features['instrumentalness'] if audio_features else None,\n",
        "            'Liveness': audio_features['liveness'] if audio_features else None,\n",
        "            'Valence': audio_features['valence'] if audio_features else None,\n",
        "            'Tempo': audio_features['tempo'] if audio_features else None,\n",
        "            # Add more attributes as needed\n",
        "        }\n",
        "\n",
        "        music_data.append(track_data)\n",
        "\n",
        "    # Create a pandas DataFrame from the list of dictionaries\n",
        "    df = pd.DataFrame(music_data)\n",
        "\n",
        "    return df"
      ],
      "metadata": {
        "id": "N1PNzRex20Ep"
      },
      "execution_count": null,
      "outputs": []
    },
    {
      "cell_type": "code",
      "source": [
        "playlist_id = '37i9dQZF1DX76Wlfdnj7AP'\n",
        "\n",
        "# Call the function to get the music data from the playlist and store it in a DataFrame\n",
        "music_df = get_trending_playlist_data(playlist_id, access_token)\n",
        "\n",
        "# Display the DataFrame\n",
        "print(music_df)"
      ],
      "metadata": {
        "colab": {
          "base_uri": "https://localhost:8080/"
        },
        "id": "FI8wN6NP2_sA",
        "outputId": "8621cb73-898d-427d-d828-f79222f00681"
      },
      "execution_count": null,
      "outputs": [
        {
          "output_type": "stream",
          "name": "stdout",
          "text": [
            "                                           Track Name  \\\n",
            "0                                         Lovin On Me   \n",
            "1                                              redrum   \n",
            "2                          FE!N (feat. Playboi Carti)   \n",
            "3                                            BELLAKEO   \n",
            "4                                               Prada   \n",
            "..                                                ...   \n",
            "95  WORTH NOTHING (feat. Oliver Tree) - Fast & Fur...   \n",
            "96                                               BOTH   \n",
            "97                                  MONEY ON THE DASH   \n",
            "98                        Another Love - Tiësto Remix   \n",
            "99                                           Remember   \n",
            "\n",
            "                                              Artists  \\\n",
            "0                                         Jack Harlow   \n",
            "1                                           21 Savage   \n",
            "2                         Travis Scott, Playboi Carti   \n",
            "3                                  Peso Pluma, Anitta   \n",
            "4                         cassö, RAYE, D-Block Europe   \n",
            "..                                                ...   \n",
            "95  TWISTED, Oliver Tree, Fast & Furious: The Fast...   \n",
            "96                             Tiësto, 21 Savage, BIA   \n",
            "97                                Elley Duhé, Whethan   \n",
            "98                                  Tom Odell, Tiësto   \n",
            "99                           Becky Hill, David Guetta   \n",
            "\n",
            "                                           Album Name                Album ID  \\\n",
            "0                                         Lovin On Me  6VCO0fDBGbRW8mCEvV95af   \n",
            "1                                      american dream  2RRYaYHY7fIIdvFlvgb5vq   \n",
            "2                                              UTOPIA  18NOKLkZETa4sWwLMIm0UZ   \n",
            "3                                            BELLAKEO  3VLY9g3CAG1Y5r2eGVEaZ0   \n",
            "4                                               Prada  5MU0RmBSpoSxOPYBfcobDc   \n",
            "..                                                ...                     ...   \n",
            "95  WORTH NOTHING (feat. Oliver Tree) [Fast & Furi...  1nyfZlIOe109tZTrpR3z8h   \n",
            "96                                               BOTH  4WithBxkUVDf6Xe0KbTOkL   \n",
            "97                                  MONEY ON THE DASH  1nlaLDMPSzXL8G5LPBDhwd   \n",
            "98                        Another Love (Tiësto Remix)  1QltVGlNGbK94CKgUsYZGa   \n",
            "99                                           Remember  6DHfD3rZapWFmEKX1FNNZF   \n",
            "\n",
            "                  Track ID  Popularity Release Date  Duration (ms)  Explicit  \\\n",
            "0   4xhsWYTOGcal8zt0J161CU          96   2023-11-10         138411      True   \n",
            "1   52eIcoLUM25zbQupAZYoFh          96   2024-01-12         270698      True   \n",
            "2   42VsgItocQwOQC3XWZ8JNA          93   2023-07-28         191701      True   \n",
            "3   05WVKTdZhlIMX4qqMLuo0f          92   2023-12-07         197333      True   \n",
            "4   59NraMJsLaMCVtwXTSia8i          91   2023-08-11         132359      True   \n",
            "..                     ...         ...          ...            ...       ...   \n",
            "95  3PjbA0O5olhampPMdaB0V1          76   2022-09-28         164629      True   \n",
            "96  7mobUfp1aL8A6CdugCMWft          76   2023-08-29         188000     False   \n",
            "97  1p0jBDjxORjYNJyAphBRpE          76   2023-01-20         145667     False   \n",
            "98  4Et6tUEO7biKxZEfJXpNj1          76   2022-05-13         185366     False   \n",
            "99  4laAKIq9ZxBCwf99rauPYb          75   2021-06-18         160766     False   \n",
            "\n",
            "                                        External URLs  ...  Energy  Key  \\\n",
            "0   https://open.spotify.com/track/4xhsWYTOGcal8zt...  ...   0.558    2   \n",
            "1   https://open.spotify.com/track/52eIcoLUM25zbQu...  ...   0.740    2   \n",
            "2   https://open.spotify.com/track/42VsgItocQwOQC3...  ...   0.882    3   \n",
            "3   https://open.spotify.com/track/05WVKTdZhlIMX4q...  ...   0.880    9   \n",
            "4   https://open.spotify.com/track/59NraMJsLaMCVtw...  ...   0.717    8   \n",
            "..                                                ...  ...     ...  ...   \n",
            "95  https://open.spotify.com/track/3PjbA0O5olhampP...  ...   0.601    2   \n",
            "96  https://open.spotify.com/track/7mobUfp1aL8A6Cd...  ...   0.933    5   \n",
            "97  https://open.spotify.com/track/1p0jBDjxORjYNJy...  ...   0.667    8   \n",
            "98  https://open.spotify.com/track/4Et6tUEO7biKxZE...  ...   0.764    4   \n",
            "99  https://open.spotify.com/track/4laAKIq9ZxBCwf9...  ...   0.862    8   \n",
            "\n",
            "    Loudness  Mode  Speechiness  Acousticness  Instrumentalness  Liveness  \\\n",
            "0     -4.911     1       0.0568       0.00260          0.000002    0.0937   \n",
            "1     -8.445     1       0.0481       0.00529          0.000224    0.5000   \n",
            "2     -2.777     0       0.0600       0.03160          0.000000    0.1420   \n",
            "3     -2.834     1       0.1010       0.05620          0.060000    0.1530   \n",
            "4     -5.804     1       0.0375       0.00100          0.000002    0.1130   \n",
            "..       ...   ...          ...           ...               ...       ...   \n",
            "95    -7.887     0       0.0628       0.15000          0.000579    0.1680   \n",
            "96    -3.099     0       0.0832       0.02520          0.000025    0.4930   \n",
            "97    -7.126     1       0.0843       0.04390          0.000013    0.1790   \n",
            "98    -4.685     0       0.0737       0.08360          0.087100    0.1320   \n",
            "99    -2.903     1       0.0370       0.04100          0.000000    0.0907   \n",
            "\n",
            "    Valence    Tempo  \n",
            "0     0.606  104.983  \n",
            "1     0.246  172.089  \n",
            "2     0.201  148.038  \n",
            "3     0.463  180.011  \n",
            "4     0.422  141.904  \n",
            "..      ...      ...  \n",
            "95    0.156  139.880  \n",
            "96    0.523  119.987  \n",
            "97    0.292  120.044  \n",
            "98    0.473  123.046  \n",
            "99    0.354  123.849  \n",
            "\n",
            "[100 rows x 21 columns]\n"
          ]
        }
      ]
    }
  ]
}