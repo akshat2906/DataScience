{
  "metadata": {
    "kernelspec": {
      "language": "python",
      "display_name": "Python 3",
      "name": "python3"
    },
    "language_info": {
      "name": "python",
      "version": "3.10.12",
      "mimetype": "text/x-python",
      "codemirror_mode": {
        "name": "ipython",
        "version": 3
      },
      "pygments_lexer": "ipython3",
      "nbconvert_exporter": "python",
      "file_extension": ".py"
    },
    "kaggle": {
      "accelerator": "none",
      "dataSources": [
        {
          "sourceId": 1073629,
          "sourceType": "datasetVersion",
          "datasetId": 596958
        }
      ],
      "dockerImageVersionId": 30587,
      "isInternetEnabled": false,
      "language": "python",
      "sourceType": "notebook",
      "isGpuEnabled": false
    },
    "colab": {
      "provenance": []
    }
  },
  "nbformat_minor": 0,
  "nbformat": 4,
  "cells": [
    {
      "cell_type": "markdown",
      "source": [
        "# Importing Libraries"
      ],
      "metadata": {
        "id": "rw5oIv8MJ2tp"
      }
    },
    {
      "cell_type": "code",
      "source": [
        "from google.colab import drive\n",
        "drive.mount(\"//content//gdrive\", force_remount=True)\n",
        "url_path='/content/gdrive/MyDrive/Dataset/Placement_Data_Full_Class.csv'"
      ],
      "metadata": {
        "colab": {
          "base_uri": "https://localhost:8080/"
        },
        "id": "-w9zeGSrKY7s",
        "outputId": "95234787-53f3-4be3-c2fa-2f911cd8bb9d"
      },
      "execution_count": null,
      "outputs": [
        {
          "output_type": "stream",
          "name": "stdout",
          "text": [
            "Mounted at //content//gdrive\n"
          ]
        }
      ]
    },
    {
      "cell_type": "code",
      "source": [
        "import numpy as np # linear algebra\n",
        "import pandas as pd # data processing, CSV file I/O (e.g. pd.read_csv)\n",
        "import matplotlib.pyplot as plt\n",
        "import seaborn as sns"
      ],
      "metadata": {
        "id": "e-X_uMxeJ2tq"
      },
      "execution_count": null,
      "outputs": []
    },
    {
      "cell_type": "code",
      "source": [
        "df = pd.read_csv(url_path)"
      ],
      "metadata": {
        "execution": {
          "iopub.status.busy": "2023-11-30T15:45:10.888304Z",
          "iopub.execute_input": "2023-11-30T15:45:10.88889Z",
          "iopub.status.idle": "2023-11-30T15:45:10.918177Z",
          "shell.execute_reply.started": "2023-11-30T15:45:10.888839Z",
          "shell.execute_reply": "2023-11-30T15:45:10.916905Z"
        },
        "trusted": true,
        "id": "aBhWtCRFJ2tt"
      },
      "execution_count": null,
      "outputs": []
    },
    {
      "cell_type": "code",
      "source": [
        "df.head()"
      ],
      "metadata": {
        "execution": {
          "iopub.status.busy": "2023-11-30T15:45:18.085995Z",
          "iopub.execute_input": "2023-11-30T15:45:18.086442Z",
          "iopub.status.idle": "2023-11-30T15:45:18.117488Z",
          "shell.execute_reply.started": "2023-11-30T15:45:18.086402Z",
          "shell.execute_reply": "2023-11-30T15:45:18.116113Z"
        },
        "trusted": true,
        "colab": {
          "base_uri": "https://localhost:8080/",
          "height": 206
        },
        "id": "gOTK-SI8J2tu",
        "outputId": "135155dc-9bbd-416b-ac50-c5c5f441c4a2"
      },
      "execution_count": null,
      "outputs": [
        {
          "output_type": "execute_result",
          "data": {
            "text/plain": [
              "   sl_no gender  ssc_p    ssc_b  hsc_p    hsc_b     hsc_s  degree_p  \\\n",
              "0      1      M  67.00   Others  91.00   Others  Commerce     58.00   \n",
              "1      2      M  79.33  Central  78.33   Others   Science     77.48   \n",
              "2      3      M  65.00  Central  68.00  Central      Arts     64.00   \n",
              "3      4      M  56.00  Central  52.00  Central   Science     52.00   \n",
              "4      5      M  85.80  Central  73.60  Central  Commerce     73.30   \n",
              "\n",
              "    degree_t workex  etest_p specialisation  mba_p      status    salary  \n",
              "0   Sci&Tech     No     55.0         Mkt&HR  58.80      Placed  270000.0  \n",
              "1   Sci&Tech    Yes     86.5        Mkt&Fin  66.28      Placed  200000.0  \n",
              "2  Comm&Mgmt     No     75.0        Mkt&Fin  57.80      Placed  250000.0  \n",
              "3   Sci&Tech     No     66.0         Mkt&HR  59.43  Not Placed       NaN  \n",
              "4  Comm&Mgmt     No     96.8        Mkt&Fin  55.50      Placed  425000.0  "
            ],
            "text/html": [
              "\n",
              "  <div id=\"df-2d68bbc4-76b6-496b-a383-bfec5c33fb61\" class=\"colab-df-container\">\n",
              "    <div>\n",
              "<style scoped>\n",
              "    .dataframe tbody tr th:only-of-type {\n",
              "        vertical-align: middle;\n",
              "    }\n",
              "\n",
              "    .dataframe tbody tr th {\n",
              "        vertical-align: top;\n",
              "    }\n",
              "\n",
              "    .dataframe thead th {\n",
              "        text-align: right;\n",
              "    }\n",
              "</style>\n",
              "<table border=\"1\" class=\"dataframe\">\n",
              "  <thead>\n",
              "    <tr style=\"text-align: right;\">\n",
              "      <th></th>\n",
              "      <th>sl_no</th>\n",
              "      <th>gender</th>\n",
              "      <th>ssc_p</th>\n",
              "      <th>ssc_b</th>\n",
              "      <th>hsc_p</th>\n",
              "      <th>hsc_b</th>\n",
              "      <th>hsc_s</th>\n",
              "      <th>degree_p</th>\n",
              "      <th>degree_t</th>\n",
              "      <th>workex</th>\n",
              "      <th>etest_p</th>\n",
              "      <th>specialisation</th>\n",
              "      <th>mba_p</th>\n",
              "      <th>status</th>\n",
              "      <th>salary</th>\n",
              "    </tr>\n",
              "  </thead>\n",
              "  <tbody>\n",
              "    <tr>\n",
              "      <th>0</th>\n",
              "      <td>1</td>\n",
              "      <td>M</td>\n",
              "      <td>67.00</td>\n",
              "      <td>Others</td>\n",
              "      <td>91.00</td>\n",
              "      <td>Others</td>\n",
              "      <td>Commerce</td>\n",
              "      <td>58.00</td>\n",
              "      <td>Sci&amp;Tech</td>\n",
              "      <td>No</td>\n",
              "      <td>55.0</td>\n",
              "      <td>Mkt&amp;HR</td>\n",
              "      <td>58.80</td>\n",
              "      <td>Placed</td>\n",
              "      <td>270000.0</td>\n",
              "    </tr>\n",
              "    <tr>\n",
              "      <th>1</th>\n",
              "      <td>2</td>\n",
              "      <td>M</td>\n",
              "      <td>79.33</td>\n",
              "      <td>Central</td>\n",
              "      <td>78.33</td>\n",
              "      <td>Others</td>\n",
              "      <td>Science</td>\n",
              "      <td>77.48</td>\n",
              "      <td>Sci&amp;Tech</td>\n",
              "      <td>Yes</td>\n",
              "      <td>86.5</td>\n",
              "      <td>Mkt&amp;Fin</td>\n",
              "      <td>66.28</td>\n",
              "      <td>Placed</td>\n",
              "      <td>200000.0</td>\n",
              "    </tr>\n",
              "    <tr>\n",
              "      <th>2</th>\n",
              "      <td>3</td>\n",
              "      <td>M</td>\n",
              "      <td>65.00</td>\n",
              "      <td>Central</td>\n",
              "      <td>68.00</td>\n",
              "      <td>Central</td>\n",
              "      <td>Arts</td>\n",
              "      <td>64.00</td>\n",
              "      <td>Comm&amp;Mgmt</td>\n",
              "      <td>No</td>\n",
              "      <td>75.0</td>\n",
              "      <td>Mkt&amp;Fin</td>\n",
              "      <td>57.80</td>\n",
              "      <td>Placed</td>\n",
              "      <td>250000.0</td>\n",
              "    </tr>\n",
              "    <tr>\n",
              "      <th>3</th>\n",
              "      <td>4</td>\n",
              "      <td>M</td>\n",
              "      <td>56.00</td>\n",
              "      <td>Central</td>\n",
              "      <td>52.00</td>\n",
              "      <td>Central</td>\n",
              "      <td>Science</td>\n",
              "      <td>52.00</td>\n",
              "      <td>Sci&amp;Tech</td>\n",
              "      <td>No</td>\n",
              "      <td>66.0</td>\n",
              "      <td>Mkt&amp;HR</td>\n",
              "      <td>59.43</td>\n",
              "      <td>Not Placed</td>\n",
              "      <td>NaN</td>\n",
              "    </tr>\n",
              "    <tr>\n",
              "      <th>4</th>\n",
              "      <td>5</td>\n",
              "      <td>M</td>\n",
              "      <td>85.80</td>\n",
              "      <td>Central</td>\n",
              "      <td>73.60</td>\n",
              "      <td>Central</td>\n",
              "      <td>Commerce</td>\n",
              "      <td>73.30</td>\n",
              "      <td>Comm&amp;Mgmt</td>\n",
              "      <td>No</td>\n",
              "      <td>96.8</td>\n",
              "      <td>Mkt&amp;Fin</td>\n",
              "      <td>55.50</td>\n",
              "      <td>Placed</td>\n",
              "      <td>425000.0</td>\n",
              "    </tr>\n",
              "  </tbody>\n",
              "</table>\n",
              "</div>\n",
              "    <div class=\"colab-df-buttons\">\n",
              "\n",
              "  <div class=\"colab-df-container\">\n",
              "    <button class=\"colab-df-convert\" onclick=\"convertToInteractive('df-2d68bbc4-76b6-496b-a383-bfec5c33fb61')\"\n",
              "            title=\"Convert this dataframe to an interactive table.\"\n",
              "            style=\"display:none;\">\n",
              "\n",
              "  <svg xmlns=\"http://www.w3.org/2000/svg\" height=\"24px\" viewBox=\"0 -960 960 960\">\n",
              "    <path d=\"M120-120v-720h720v720H120Zm60-500h600v-160H180v160Zm220 220h160v-160H400v160Zm0 220h160v-160H400v160ZM180-400h160v-160H180v160Zm440 0h160v-160H620v160ZM180-180h160v-160H180v160Zm440 0h160v-160H620v160Z\"/>\n",
              "  </svg>\n",
              "    </button>\n",
              "\n",
              "  <style>\n",
              "    .colab-df-container {\n",
              "      display:flex;\n",
              "      gap: 12px;\n",
              "    }\n",
              "\n",
              "    .colab-df-convert {\n",
              "      background-color: #E8F0FE;\n",
              "      border: none;\n",
              "      border-radius: 50%;\n",
              "      cursor: pointer;\n",
              "      display: none;\n",
              "      fill: #1967D2;\n",
              "      height: 32px;\n",
              "      padding: 0 0 0 0;\n",
              "      width: 32px;\n",
              "    }\n",
              "\n",
              "    .colab-df-convert:hover {\n",
              "      background-color: #E2EBFA;\n",
              "      box-shadow: 0px 1px 2px rgba(60, 64, 67, 0.3), 0px 1px 3px 1px rgba(60, 64, 67, 0.15);\n",
              "      fill: #174EA6;\n",
              "    }\n",
              "\n",
              "    .colab-df-buttons div {\n",
              "      margin-bottom: 4px;\n",
              "    }\n",
              "\n",
              "    [theme=dark] .colab-df-convert {\n",
              "      background-color: #3B4455;\n",
              "      fill: #D2E3FC;\n",
              "    }\n",
              "\n",
              "    [theme=dark] .colab-df-convert:hover {\n",
              "      background-color: #434B5C;\n",
              "      box-shadow: 0px 1px 3px 1px rgba(0, 0, 0, 0.15);\n",
              "      filter: drop-shadow(0px 1px 2px rgba(0, 0, 0, 0.3));\n",
              "      fill: #FFFFFF;\n",
              "    }\n",
              "  </style>\n",
              "\n",
              "    <script>\n",
              "      const buttonEl =\n",
              "        document.querySelector('#df-2d68bbc4-76b6-496b-a383-bfec5c33fb61 button.colab-df-convert');\n",
              "      buttonEl.style.display =\n",
              "        google.colab.kernel.accessAllowed ? 'block' : 'none';\n",
              "\n",
              "      async function convertToInteractive(key) {\n",
              "        const element = document.querySelector('#df-2d68bbc4-76b6-496b-a383-bfec5c33fb61');\n",
              "        const dataTable =\n",
              "          await google.colab.kernel.invokeFunction('convertToInteractive',\n",
              "                                                    [key], {});\n",
              "        if (!dataTable) return;\n",
              "\n",
              "        const docLinkHtml = 'Like what you see? Visit the ' +\n",
              "          '<a target=\"_blank\" href=https://colab.research.google.com/notebooks/data_table.ipynb>data table notebook</a>'\n",
              "          + ' to learn more about interactive tables.';\n",
              "        element.innerHTML = '';\n",
              "        dataTable['output_type'] = 'display_data';\n",
              "        await google.colab.output.renderOutput(dataTable, element);\n",
              "        const docLink = document.createElement('div');\n",
              "        docLink.innerHTML = docLinkHtml;\n",
              "        element.appendChild(docLink);\n",
              "      }\n",
              "    </script>\n",
              "  </div>\n",
              "\n",
              "\n",
              "<div id=\"df-ea3fa9d5-d5ab-452d-8b50-c9664c58a97e\">\n",
              "  <button class=\"colab-df-quickchart\" onclick=\"quickchart('df-ea3fa9d5-d5ab-452d-8b50-c9664c58a97e')\"\n",
              "            title=\"Suggest charts\"\n",
              "            style=\"display:none;\">\n",
              "\n",
              "<svg xmlns=\"http://www.w3.org/2000/svg\" height=\"24px\"viewBox=\"0 0 24 24\"\n",
              "     width=\"24px\">\n",
              "    <g>\n",
              "        <path d=\"M19 3H5c-1.1 0-2 .9-2 2v14c0 1.1.9 2 2 2h14c1.1 0 2-.9 2-2V5c0-1.1-.9-2-2-2zM9 17H7v-7h2v7zm4 0h-2V7h2v10zm4 0h-2v-4h2v4z\"/>\n",
              "    </g>\n",
              "</svg>\n",
              "  </button>\n",
              "\n",
              "<style>\n",
              "  .colab-df-quickchart {\n",
              "      --bg-color: #E8F0FE;\n",
              "      --fill-color: #1967D2;\n",
              "      --hover-bg-color: #E2EBFA;\n",
              "      --hover-fill-color: #174EA6;\n",
              "      --disabled-fill-color: #AAA;\n",
              "      --disabled-bg-color: #DDD;\n",
              "  }\n",
              "\n",
              "  [theme=dark] .colab-df-quickchart {\n",
              "      --bg-color: #3B4455;\n",
              "      --fill-color: #D2E3FC;\n",
              "      --hover-bg-color: #434B5C;\n",
              "      --hover-fill-color: #FFFFFF;\n",
              "      --disabled-bg-color: #3B4455;\n",
              "      --disabled-fill-color: #666;\n",
              "  }\n",
              "\n",
              "  .colab-df-quickchart {\n",
              "    background-color: var(--bg-color);\n",
              "    border: none;\n",
              "    border-radius: 50%;\n",
              "    cursor: pointer;\n",
              "    display: none;\n",
              "    fill: var(--fill-color);\n",
              "    height: 32px;\n",
              "    padding: 0;\n",
              "    width: 32px;\n",
              "  }\n",
              "\n",
              "  .colab-df-quickchart:hover {\n",
              "    background-color: var(--hover-bg-color);\n",
              "    box-shadow: 0 1px 2px rgba(60, 64, 67, 0.3), 0 1px 3px 1px rgba(60, 64, 67, 0.15);\n",
              "    fill: var(--button-hover-fill-color);\n",
              "  }\n",
              "\n",
              "  .colab-df-quickchart-complete:disabled,\n",
              "  .colab-df-quickchart-complete:disabled:hover {\n",
              "    background-color: var(--disabled-bg-color);\n",
              "    fill: var(--disabled-fill-color);\n",
              "    box-shadow: none;\n",
              "  }\n",
              "\n",
              "  .colab-df-spinner {\n",
              "    border: 2px solid var(--fill-color);\n",
              "    border-color: transparent;\n",
              "    border-bottom-color: var(--fill-color);\n",
              "    animation:\n",
              "      spin 1s steps(1) infinite;\n",
              "  }\n",
              "\n",
              "  @keyframes spin {\n",
              "    0% {\n",
              "      border-color: transparent;\n",
              "      border-bottom-color: var(--fill-color);\n",
              "      border-left-color: var(--fill-color);\n",
              "    }\n",
              "    20% {\n",
              "      border-color: transparent;\n",
              "      border-left-color: var(--fill-color);\n",
              "      border-top-color: var(--fill-color);\n",
              "    }\n",
              "    30% {\n",
              "      border-color: transparent;\n",
              "      border-left-color: var(--fill-color);\n",
              "      border-top-color: var(--fill-color);\n",
              "      border-right-color: var(--fill-color);\n",
              "    }\n",
              "    40% {\n",
              "      border-color: transparent;\n",
              "      border-right-color: var(--fill-color);\n",
              "      border-top-color: var(--fill-color);\n",
              "    }\n",
              "    60% {\n",
              "      border-color: transparent;\n",
              "      border-right-color: var(--fill-color);\n",
              "    }\n",
              "    80% {\n",
              "      border-color: transparent;\n",
              "      border-right-color: var(--fill-color);\n",
              "      border-bottom-color: var(--fill-color);\n",
              "    }\n",
              "    90% {\n",
              "      border-color: transparent;\n",
              "      border-bottom-color: var(--fill-color);\n",
              "    }\n",
              "  }\n",
              "</style>\n",
              "\n",
              "  <script>\n",
              "    async function quickchart(key) {\n",
              "      const quickchartButtonEl =\n",
              "        document.querySelector('#' + key + ' button');\n",
              "      quickchartButtonEl.disabled = true;  // To prevent multiple clicks.\n",
              "      quickchartButtonEl.classList.add('colab-df-spinner');\n",
              "      try {\n",
              "        const charts = await google.colab.kernel.invokeFunction(\n",
              "            'suggestCharts', [key], {});\n",
              "      } catch (error) {\n",
              "        console.error('Error during call to suggestCharts:', error);\n",
              "      }\n",
              "      quickchartButtonEl.classList.remove('colab-df-spinner');\n",
              "      quickchartButtonEl.classList.add('colab-df-quickchart-complete');\n",
              "    }\n",
              "    (() => {\n",
              "      let quickchartButtonEl =\n",
              "        document.querySelector('#df-ea3fa9d5-d5ab-452d-8b50-c9664c58a97e button');\n",
              "      quickchartButtonEl.style.display =\n",
              "        google.colab.kernel.accessAllowed ? 'block' : 'none';\n",
              "    })();\n",
              "  </script>\n",
              "</div>\n",
              "\n",
              "    </div>\n",
              "  </div>\n"
            ]
          },
          "metadata": {},
          "execution_count": 4
        }
      ]
    },
    {
      "cell_type": "markdown",
      "source": [
        "# Understanding data"
      ],
      "metadata": {
        "id": "WRGb1YTWJ2tv"
      }
    },
    {
      "cell_type": "code",
      "source": [
        "df.info()"
      ],
      "metadata": {
        "execution": {
          "iopub.status.busy": "2023-11-30T15:49:56.516407Z",
          "iopub.execute_input": "2023-11-30T15:49:56.516892Z",
          "iopub.status.idle": "2023-11-30T15:49:56.543134Z",
          "shell.execute_reply.started": "2023-11-30T15:49:56.516853Z",
          "shell.execute_reply": "2023-11-30T15:49:56.541883Z"
        },
        "trusted": true,
        "colab": {
          "base_uri": "https://localhost:8080/"
        },
        "id": "5CMv3ihGJ2tw",
        "outputId": "bfe41aa7-541b-4bb5-8866-9e727dbc3b1c"
      },
      "execution_count": null,
      "outputs": [
        {
          "output_type": "stream",
          "name": "stdout",
          "text": [
            "<class 'pandas.core.frame.DataFrame'>\n",
            "RangeIndex: 215 entries, 0 to 214\n",
            "Data columns (total 15 columns):\n",
            " #   Column          Non-Null Count  Dtype  \n",
            "---  ------          --------------  -----  \n",
            " 0   sl_no           215 non-null    int64  \n",
            " 1   gender          215 non-null    object \n",
            " 2   ssc_p           215 non-null    float64\n",
            " 3   ssc_b           215 non-null    object \n",
            " 4   hsc_p           215 non-null    float64\n",
            " 5   hsc_b           215 non-null    object \n",
            " 6   hsc_s           215 non-null    object \n",
            " 7   degree_p        215 non-null    float64\n",
            " 8   degree_t        215 non-null    object \n",
            " 9   workex          215 non-null    object \n",
            " 10  etest_p         215 non-null    float64\n",
            " 11  specialisation  215 non-null    object \n",
            " 12  mba_p           215 non-null    float64\n",
            " 13  status          215 non-null    object \n",
            " 14  salary          148 non-null    float64\n",
            "dtypes: float64(6), int64(1), object(8)\n",
            "memory usage: 25.3+ KB\n"
          ]
        }
      ]
    },
    {
      "cell_type": "code",
      "source": [
        "df.describe()"
      ],
      "metadata": {
        "execution": {
          "iopub.status.busy": "2023-11-30T15:50:06.936376Z",
          "iopub.execute_input": "2023-11-30T15:50:06.936826Z",
          "iopub.status.idle": "2023-11-30T15:50:06.975467Z",
          "shell.execute_reply.started": "2023-11-30T15:50:06.936795Z",
          "shell.execute_reply": "2023-11-30T15:50:06.974298Z"
        },
        "trusted": true,
        "colab": {
          "base_uri": "https://localhost:8080/",
          "height": 300
        },
        "id": "XLI6brZSJ2tx",
        "outputId": "ae472cac-c845-422f-ff89-06d5fc13d63e"
      },
      "execution_count": null,
      "outputs": [
        {
          "output_type": "execute_result",
          "data": {
            "text/plain": [
              "            sl_no       ssc_p       hsc_p    degree_p     etest_p       mba_p  \\\n",
              "count  215.000000  215.000000  215.000000  215.000000  215.000000  215.000000   \n",
              "mean   108.000000   67.303395   66.333163   66.370186   72.100558   62.278186   \n",
              "std     62.209324   10.827205   10.897509    7.358743   13.275956    5.833385   \n",
              "min      1.000000   40.890000   37.000000   50.000000   50.000000   51.210000   \n",
              "25%     54.500000   60.600000   60.900000   61.000000   60.000000   57.945000   \n",
              "50%    108.000000   67.000000   65.000000   66.000000   71.000000   62.000000   \n",
              "75%    161.500000   75.700000   73.000000   72.000000   83.500000   66.255000   \n",
              "max    215.000000   89.400000   97.700000   91.000000   98.000000   77.890000   \n",
              "\n",
              "              salary  \n",
              "count     148.000000  \n",
              "mean   288655.405405  \n",
              "std     93457.452420  \n",
              "min    200000.000000  \n",
              "25%    240000.000000  \n",
              "50%    265000.000000  \n",
              "75%    300000.000000  \n",
              "max    940000.000000  "
            ],
            "text/html": [
              "\n",
              "  <div id=\"df-f55034b3-4fdc-4be4-8057-773204d4c2d6\" class=\"colab-df-container\">\n",
              "    <div>\n",
              "<style scoped>\n",
              "    .dataframe tbody tr th:only-of-type {\n",
              "        vertical-align: middle;\n",
              "    }\n",
              "\n",
              "    .dataframe tbody tr th {\n",
              "        vertical-align: top;\n",
              "    }\n",
              "\n",
              "    .dataframe thead th {\n",
              "        text-align: right;\n",
              "    }\n",
              "</style>\n",
              "<table border=\"1\" class=\"dataframe\">\n",
              "  <thead>\n",
              "    <tr style=\"text-align: right;\">\n",
              "      <th></th>\n",
              "      <th>sl_no</th>\n",
              "      <th>ssc_p</th>\n",
              "      <th>hsc_p</th>\n",
              "      <th>degree_p</th>\n",
              "      <th>etest_p</th>\n",
              "      <th>mba_p</th>\n",
              "      <th>salary</th>\n",
              "    </tr>\n",
              "  </thead>\n",
              "  <tbody>\n",
              "    <tr>\n",
              "      <th>count</th>\n",
              "      <td>215.000000</td>\n",
              "      <td>215.000000</td>\n",
              "      <td>215.000000</td>\n",
              "      <td>215.000000</td>\n",
              "      <td>215.000000</td>\n",
              "      <td>215.000000</td>\n",
              "      <td>148.000000</td>\n",
              "    </tr>\n",
              "    <tr>\n",
              "      <th>mean</th>\n",
              "      <td>108.000000</td>\n",
              "      <td>67.303395</td>\n",
              "      <td>66.333163</td>\n",
              "      <td>66.370186</td>\n",
              "      <td>72.100558</td>\n",
              "      <td>62.278186</td>\n",
              "      <td>288655.405405</td>\n",
              "    </tr>\n",
              "    <tr>\n",
              "      <th>std</th>\n",
              "      <td>62.209324</td>\n",
              "      <td>10.827205</td>\n",
              "      <td>10.897509</td>\n",
              "      <td>7.358743</td>\n",
              "      <td>13.275956</td>\n",
              "      <td>5.833385</td>\n",
              "      <td>93457.452420</td>\n",
              "    </tr>\n",
              "    <tr>\n",
              "      <th>min</th>\n",
              "      <td>1.000000</td>\n",
              "      <td>40.890000</td>\n",
              "      <td>37.000000</td>\n",
              "      <td>50.000000</td>\n",
              "      <td>50.000000</td>\n",
              "      <td>51.210000</td>\n",
              "      <td>200000.000000</td>\n",
              "    </tr>\n",
              "    <tr>\n",
              "      <th>25%</th>\n",
              "      <td>54.500000</td>\n",
              "      <td>60.600000</td>\n",
              "      <td>60.900000</td>\n",
              "      <td>61.000000</td>\n",
              "      <td>60.000000</td>\n",
              "      <td>57.945000</td>\n",
              "      <td>240000.000000</td>\n",
              "    </tr>\n",
              "    <tr>\n",
              "      <th>50%</th>\n",
              "      <td>108.000000</td>\n",
              "      <td>67.000000</td>\n",
              "      <td>65.000000</td>\n",
              "      <td>66.000000</td>\n",
              "      <td>71.000000</td>\n",
              "      <td>62.000000</td>\n",
              "      <td>265000.000000</td>\n",
              "    </tr>\n",
              "    <tr>\n",
              "      <th>75%</th>\n",
              "      <td>161.500000</td>\n",
              "      <td>75.700000</td>\n",
              "      <td>73.000000</td>\n",
              "      <td>72.000000</td>\n",
              "      <td>83.500000</td>\n",
              "      <td>66.255000</td>\n",
              "      <td>300000.000000</td>\n",
              "    </tr>\n",
              "    <tr>\n",
              "      <th>max</th>\n",
              "      <td>215.000000</td>\n",
              "      <td>89.400000</td>\n",
              "      <td>97.700000</td>\n",
              "      <td>91.000000</td>\n",
              "      <td>98.000000</td>\n",
              "      <td>77.890000</td>\n",
              "      <td>940000.000000</td>\n",
              "    </tr>\n",
              "  </tbody>\n",
              "</table>\n",
              "</div>\n",
              "    <div class=\"colab-df-buttons\">\n",
              "\n",
              "  <div class=\"colab-df-container\">\n",
              "    <button class=\"colab-df-convert\" onclick=\"convertToInteractive('df-f55034b3-4fdc-4be4-8057-773204d4c2d6')\"\n",
              "            title=\"Convert this dataframe to an interactive table.\"\n",
              "            style=\"display:none;\">\n",
              "\n",
              "  <svg xmlns=\"http://www.w3.org/2000/svg\" height=\"24px\" viewBox=\"0 -960 960 960\">\n",
              "    <path d=\"M120-120v-720h720v720H120Zm60-500h600v-160H180v160Zm220 220h160v-160H400v160Zm0 220h160v-160H400v160ZM180-400h160v-160H180v160Zm440 0h160v-160H620v160ZM180-180h160v-160H180v160Zm440 0h160v-160H620v160Z\"/>\n",
              "  </svg>\n",
              "    </button>\n",
              "\n",
              "  <style>\n",
              "    .colab-df-container {\n",
              "      display:flex;\n",
              "      gap: 12px;\n",
              "    }\n",
              "\n",
              "    .colab-df-convert {\n",
              "      background-color: #E8F0FE;\n",
              "      border: none;\n",
              "      border-radius: 50%;\n",
              "      cursor: pointer;\n",
              "      display: none;\n",
              "      fill: #1967D2;\n",
              "      height: 32px;\n",
              "      padding: 0 0 0 0;\n",
              "      width: 32px;\n",
              "    }\n",
              "\n",
              "    .colab-df-convert:hover {\n",
              "      background-color: #E2EBFA;\n",
              "      box-shadow: 0px 1px 2px rgba(60, 64, 67, 0.3), 0px 1px 3px 1px rgba(60, 64, 67, 0.15);\n",
              "      fill: #174EA6;\n",
              "    }\n",
              "\n",
              "    .colab-df-buttons div {\n",
              "      margin-bottom: 4px;\n",
              "    }\n",
              "\n",
              "    [theme=dark] .colab-df-convert {\n",
              "      background-color: #3B4455;\n",
              "      fill: #D2E3FC;\n",
              "    }\n",
              "\n",
              "    [theme=dark] .colab-df-convert:hover {\n",
              "      background-color: #434B5C;\n",
              "      box-shadow: 0px 1px 3px 1px rgba(0, 0, 0, 0.15);\n",
              "      filter: drop-shadow(0px 1px 2px rgba(0, 0, 0, 0.3));\n",
              "      fill: #FFFFFF;\n",
              "    }\n",
              "  </style>\n",
              "\n",
              "    <script>\n",
              "      const buttonEl =\n",
              "        document.querySelector('#df-f55034b3-4fdc-4be4-8057-773204d4c2d6 button.colab-df-convert');\n",
              "      buttonEl.style.display =\n",
              "        google.colab.kernel.accessAllowed ? 'block' : 'none';\n",
              "\n",
              "      async function convertToInteractive(key) {\n",
              "        const element = document.querySelector('#df-f55034b3-4fdc-4be4-8057-773204d4c2d6');\n",
              "        const dataTable =\n",
              "          await google.colab.kernel.invokeFunction('convertToInteractive',\n",
              "                                                    [key], {});\n",
              "        if (!dataTable) return;\n",
              "\n",
              "        const docLinkHtml = 'Like what you see? Visit the ' +\n",
              "          '<a target=\"_blank\" href=https://colab.research.google.com/notebooks/data_table.ipynb>data table notebook</a>'\n",
              "          + ' to learn more about interactive tables.';\n",
              "        element.innerHTML = '';\n",
              "        dataTable['output_type'] = 'display_data';\n",
              "        await google.colab.output.renderOutput(dataTable, element);\n",
              "        const docLink = document.createElement('div');\n",
              "        docLink.innerHTML = docLinkHtml;\n",
              "        element.appendChild(docLink);\n",
              "      }\n",
              "    </script>\n",
              "  </div>\n",
              "\n",
              "\n",
              "<div id=\"df-8270403d-b3c0-4ba5-af57-05fd58a047f0\">\n",
              "  <button class=\"colab-df-quickchart\" onclick=\"quickchart('df-8270403d-b3c0-4ba5-af57-05fd58a047f0')\"\n",
              "            title=\"Suggest charts\"\n",
              "            style=\"display:none;\">\n",
              "\n",
              "<svg xmlns=\"http://www.w3.org/2000/svg\" height=\"24px\"viewBox=\"0 0 24 24\"\n",
              "     width=\"24px\">\n",
              "    <g>\n",
              "        <path d=\"M19 3H5c-1.1 0-2 .9-2 2v14c0 1.1.9 2 2 2h14c1.1 0 2-.9 2-2V5c0-1.1-.9-2-2-2zM9 17H7v-7h2v7zm4 0h-2V7h2v10zm4 0h-2v-4h2v4z\"/>\n",
              "    </g>\n",
              "</svg>\n",
              "  </button>\n",
              "\n",
              "<style>\n",
              "  .colab-df-quickchart {\n",
              "      --bg-color: #E8F0FE;\n",
              "      --fill-color: #1967D2;\n",
              "      --hover-bg-color: #E2EBFA;\n",
              "      --hover-fill-color: #174EA6;\n",
              "      --disabled-fill-color: #AAA;\n",
              "      --disabled-bg-color: #DDD;\n",
              "  }\n",
              "\n",
              "  [theme=dark] .colab-df-quickchart {\n",
              "      --bg-color: #3B4455;\n",
              "      --fill-color: #D2E3FC;\n",
              "      --hover-bg-color: #434B5C;\n",
              "      --hover-fill-color: #FFFFFF;\n",
              "      --disabled-bg-color: #3B4455;\n",
              "      --disabled-fill-color: #666;\n",
              "  }\n",
              "\n",
              "  .colab-df-quickchart {\n",
              "    background-color: var(--bg-color);\n",
              "    border: none;\n",
              "    border-radius: 50%;\n",
              "    cursor: pointer;\n",
              "    display: none;\n",
              "    fill: var(--fill-color);\n",
              "    height: 32px;\n",
              "    padding: 0;\n",
              "    width: 32px;\n",
              "  }\n",
              "\n",
              "  .colab-df-quickchart:hover {\n",
              "    background-color: var(--hover-bg-color);\n",
              "    box-shadow: 0 1px 2px rgba(60, 64, 67, 0.3), 0 1px 3px 1px rgba(60, 64, 67, 0.15);\n",
              "    fill: var(--button-hover-fill-color);\n",
              "  }\n",
              "\n",
              "  .colab-df-quickchart-complete:disabled,\n",
              "  .colab-df-quickchart-complete:disabled:hover {\n",
              "    background-color: var(--disabled-bg-color);\n",
              "    fill: var(--disabled-fill-color);\n",
              "    box-shadow: none;\n",
              "  }\n",
              "\n",
              "  .colab-df-spinner {\n",
              "    border: 2px solid var(--fill-color);\n",
              "    border-color: transparent;\n",
              "    border-bottom-color: var(--fill-color);\n",
              "    animation:\n",
              "      spin 1s steps(1) infinite;\n",
              "  }\n",
              "\n",
              "  @keyframes spin {\n",
              "    0% {\n",
              "      border-color: transparent;\n",
              "      border-bottom-color: var(--fill-color);\n",
              "      border-left-color: var(--fill-color);\n",
              "    }\n",
              "    20% {\n",
              "      border-color: transparent;\n",
              "      border-left-color: var(--fill-color);\n",
              "      border-top-color: var(--fill-color);\n",
              "    }\n",
              "    30% {\n",
              "      border-color: transparent;\n",
              "      border-left-color: var(--fill-color);\n",
              "      border-top-color: var(--fill-color);\n",
              "      border-right-color: var(--fill-color);\n",
              "    }\n",
              "    40% {\n",
              "      border-color: transparent;\n",
              "      border-right-color: var(--fill-color);\n",
              "      border-top-color: var(--fill-color);\n",
              "    }\n",
              "    60% {\n",
              "      border-color: transparent;\n",
              "      border-right-color: var(--fill-color);\n",
              "    }\n",
              "    80% {\n",
              "      border-color: transparent;\n",
              "      border-right-color: var(--fill-color);\n",
              "      border-bottom-color: var(--fill-color);\n",
              "    }\n",
              "    90% {\n",
              "      border-color: transparent;\n",
              "      border-bottom-color: var(--fill-color);\n",
              "    }\n",
              "  }\n",
              "</style>\n",
              "\n",
              "  <script>\n",
              "    async function quickchart(key) {\n",
              "      const quickchartButtonEl =\n",
              "        document.querySelector('#' + key + ' button');\n",
              "      quickchartButtonEl.disabled = true;  // To prevent multiple clicks.\n",
              "      quickchartButtonEl.classList.add('colab-df-spinner');\n",
              "      try {\n",
              "        const charts = await google.colab.kernel.invokeFunction(\n",
              "            'suggestCharts', [key], {});\n",
              "      } catch (error) {\n",
              "        console.error('Error during call to suggestCharts:', error);\n",
              "      }\n",
              "      quickchartButtonEl.classList.remove('colab-df-spinner');\n",
              "      quickchartButtonEl.classList.add('colab-df-quickchart-complete');\n",
              "    }\n",
              "    (() => {\n",
              "      let quickchartButtonEl =\n",
              "        document.querySelector('#df-8270403d-b3c0-4ba5-af57-05fd58a047f0 button');\n",
              "      quickchartButtonEl.style.display =\n",
              "        google.colab.kernel.accessAllowed ? 'block' : 'none';\n",
              "    })();\n",
              "  </script>\n",
              "</div>\n",
              "\n",
              "    </div>\n",
              "  </div>\n"
            ]
          },
          "metadata": {},
          "execution_count": 6
        }
      ]
    },
    {
      "cell_type": "markdown",
      "source": [
        "# Encoding and Transforming"
      ],
      "metadata": {
        "id": "RgeoR2iaJ2tz"
      }
    },
    {
      "cell_type": "code",
      "source": [
        "from sklearn.preprocessing import LabelEncoder"
      ],
      "metadata": {
        "execution": {
          "iopub.status.busy": "2023-11-30T15:53:40.990014Z",
          "iopub.execute_input": "2023-11-30T15:53:40.990444Z",
          "iopub.status.idle": "2023-11-30T15:53:40.997073Z",
          "shell.execute_reply.started": "2023-11-30T15:53:40.9904Z",
          "shell.execute_reply": "2023-11-30T15:53:40.995393Z"
        },
        "trusted": true,
        "id": "6Pm-lyCFJ2t0"
      },
      "execution_count": null,
      "outputs": []
    },
    {
      "cell_type": "code",
      "source": [
        "le = LabelEncoder()"
      ],
      "metadata": {
        "execution": {
          "iopub.status.busy": "2023-11-30T15:54:25.300181Z",
          "iopub.execute_input": "2023-11-30T15:54:25.300655Z",
          "iopub.status.idle": "2023-11-30T15:54:25.306105Z",
          "shell.execute_reply.started": "2023-11-30T15:54:25.300619Z",
          "shell.execute_reply": "2023-11-30T15:54:25.304755Z"
        },
        "trusted": true,
        "id": "n-u8zemnJ2t1"
      },
      "execution_count": null,
      "outputs": []
    },
    {
      "cell_type": "code",
      "source": [
        "df['gender'] = le.fit_transform(df['gender'])"
      ],
      "metadata": {
        "execution": {
          "iopub.status.busy": "2023-11-30T15:57:03.661863Z",
          "iopub.execute_input": "2023-11-30T15:57:03.662308Z",
          "iopub.status.idle": "2023-11-30T15:57:03.670723Z",
          "shell.execute_reply.started": "2023-11-30T15:57:03.66227Z",
          "shell.execute_reply": "2023-11-30T15:57:03.669588Z"
        },
        "trusted": true,
        "id": "ZSRpcR8BJ2t2"
      },
      "execution_count": null,
      "outputs": []
    },
    {
      "cell_type": "code",
      "source": [
        "df['ssc_b'] = le.fit_transform(df['ssc_b'])\n",
        "df['hsc_b'] = le.fit_transform(df['hsc_b'])\n",
        "df['hsc_s'] = le.fit_transform(df['hsc_s'])\n",
        "df['degree_t'] = le.fit_transform(df['degree_t'])\n",
        "df['specialisation'] = le.fit_transform(df['specialisation'])\n",
        "df['status'] = le.fit_transform(df['status'])"
      ],
      "metadata": {
        "execution": {
          "iopub.status.busy": "2023-11-30T16:28:56.603527Z",
          "iopub.execute_input": "2023-11-30T16:28:56.604026Z",
          "iopub.status.idle": "2023-11-30T16:28:56.628641Z",
          "shell.execute_reply.started": "2023-11-30T16:28:56.603987Z",
          "shell.execute_reply": "2023-11-30T16:28:56.627384Z"
        },
        "trusted": true,
        "id": "1lGvX4_aJ2t2"
      },
      "execution_count": null,
      "outputs": []
    },
    {
      "cell_type": "code",
      "source": [
        "df['workex'] = le.fit_transform(df['workex'])"
      ],
      "metadata": {
        "execution": {
          "iopub.status.busy": "2023-11-30T16:29:36.237951Z",
          "iopub.execute_input": "2023-11-30T16:29:36.238608Z",
          "iopub.status.idle": "2023-11-30T16:29:36.24742Z",
          "shell.execute_reply.started": "2023-11-30T16:29:36.238552Z",
          "shell.execute_reply": "2023-11-30T16:29:36.245875Z"
        },
        "trusted": true,
        "id": "rVjsWPyoJ2t3"
      },
      "execution_count": null,
      "outputs": []
    },
    {
      "cell_type": "code",
      "source": [
        "df['salary']= df['salary'].fillna(df['salary'].mean())"
      ],
      "metadata": {
        "execution": {
          "iopub.status.busy": "2023-11-30T16:42:48.871678Z",
          "iopub.execute_input": "2023-11-30T16:42:48.872113Z",
          "iopub.status.idle": "2023-11-30T16:42:48.878922Z",
          "shell.execute_reply.started": "2023-11-30T16:42:48.872078Z",
          "shell.execute_reply": "2023-11-30T16:42:48.877594Z"
        },
        "trusted": true,
        "id": "arqcTUhMJ2t4"
      },
      "execution_count": null,
      "outputs": []
    },
    {
      "cell_type": "markdown",
      "source": [
        "# Modeling The Data"
      ],
      "metadata": {
        "execution": {
          "iopub.status.busy": "2023-11-30T16:43:44.896339Z",
          "iopub.execute_input": "2023-11-30T16:43:44.896751Z",
          "iopub.status.idle": "2023-11-30T16:43:44.902227Z",
          "shell.execute_reply.started": "2023-11-30T16:43:44.89672Z",
          "shell.execute_reply": "2023-11-30T16:43:44.900919Z"
        },
        "id": "I_9rZlUdJ2t5"
      }
    },
    {
      "cell_type": "code",
      "source": [
        "X = df.drop('status',axis=1)\n",
        "y = df['status']"
      ],
      "metadata": {
        "execution": {
          "iopub.status.busy": "2023-11-30T16:48:05.762519Z",
          "iopub.execute_input": "2023-11-30T16:48:05.763001Z",
          "iopub.status.idle": "2023-11-30T16:48:05.855751Z",
          "shell.execute_reply.started": "2023-11-30T16:48:05.762969Z",
          "shell.execute_reply": "2023-11-30T16:48:05.854574Z"
        },
        "trusted": true,
        "id": "VOzQVgAiJ2t5"
      },
      "execution_count": null,
      "outputs": []
    },
    {
      "cell_type": "code",
      "source": [
        "from sklearn.model_selection import train_test_split"
      ],
      "metadata": {
        "execution": {
          "iopub.status.busy": "2023-11-30T16:57:11.732239Z",
          "iopub.execute_input": "2023-11-30T16:57:11.732881Z",
          "iopub.status.idle": "2023-11-30T16:57:11.737402Z",
          "shell.execute_reply.started": "2023-11-30T16:57:11.732845Z",
          "shell.execute_reply": "2023-11-30T16:57:11.736553Z"
        },
        "trusted": true,
        "id": "65evFnepJ2t6"
      },
      "execution_count": null,
      "outputs": []
    },
    {
      "cell_type": "code",
      "source": [
        "X_train, X_test, y_train, y_test = train_test_split( X, y, test_size=0.3, random_state=7)"
      ],
      "metadata": {
        "execution": {
          "iopub.status.busy": "2023-11-30T16:57:51.092328Z",
          "iopub.execute_input": "2023-11-30T16:57:51.09283Z",
          "iopub.status.idle": "2023-11-30T16:57:51.108869Z",
          "shell.execute_reply.started": "2023-11-30T16:57:51.09279Z",
          "shell.execute_reply": "2023-11-30T16:57:51.107365Z"
        },
        "trusted": true,
        "id": "4sa2-t8bJ2t7"
      },
      "execution_count": null,
      "outputs": []
    },
    {
      "cell_type": "markdown",
      "source": [
        "# Model - 1 Logistic Regression"
      ],
      "metadata": {
        "id": "oznzkBtrJ2t8"
      }
    },
    {
      "cell_type": "code",
      "source": [
        "from sklearn.linear_model import LogisticRegression\n",
        "from sklearn.metrics import accuracy_score, mean_absolute_error,mean_squared_error,confusion_matrix,classification_report"
      ],
      "metadata": {
        "execution": {
          "iopub.status.busy": "2023-11-30T17:03:03.67754Z",
          "iopub.execute_input": "2023-11-30T17:03:03.677969Z",
          "iopub.status.idle": "2023-11-30T17:03:03.684176Z",
          "shell.execute_reply.started": "2023-11-30T17:03:03.677935Z",
          "shell.execute_reply": "2023-11-30T17:03:03.68291Z"
        },
        "trusted": true,
        "id": "LZGzvZJOJ2t8"
      },
      "execution_count": null,
      "outputs": []
    },
    {
      "cell_type": "code",
      "source": [
        "model = LogisticRegression(max_iter=1000)\n",
        "model.fit(X_train,y_train)"
      ],
      "metadata": {
        "execution": {
          "iopub.status.busy": "2023-11-30T17:06:31.896641Z",
          "iopub.execute_input": "2023-11-30T17:06:31.897023Z",
          "iopub.status.idle": "2023-11-30T17:06:31.932839Z",
          "shell.execute_reply.started": "2023-11-30T17:06:31.896994Z",
          "shell.execute_reply": "2023-11-30T17:06:31.931762Z"
        },
        "trusted": true,
        "colab": {
          "base_uri": "https://localhost:8080/",
          "height": 75
        },
        "id": "n_Xn0E8rJ2t9",
        "outputId": "e6ffab22-7261-4e5d-d6c9-1e2d5fbaae5f"
      },
      "execution_count": null,
      "outputs": [
        {
          "output_type": "execute_result",
          "data": {
            "text/plain": [
              "LogisticRegression(max_iter=1000)"
            ],
            "text/html": [
              "<style>#sk-container-id-1 {color: black;background-color: white;}#sk-container-id-1 pre{padding: 0;}#sk-container-id-1 div.sk-toggleable {background-color: white;}#sk-container-id-1 label.sk-toggleable__label {cursor: pointer;display: block;width: 100%;margin-bottom: 0;padding: 0.3em;box-sizing: border-box;text-align: center;}#sk-container-id-1 label.sk-toggleable__label-arrow:before {content: \"▸\";float: left;margin-right: 0.25em;color: #696969;}#sk-container-id-1 label.sk-toggleable__label-arrow:hover:before {color: black;}#sk-container-id-1 div.sk-estimator:hover label.sk-toggleable__label-arrow:before {color: black;}#sk-container-id-1 div.sk-toggleable__content {max-height: 0;max-width: 0;overflow: hidden;text-align: left;background-color: #f0f8ff;}#sk-container-id-1 div.sk-toggleable__content pre {margin: 0.2em;color: black;border-radius: 0.25em;background-color: #f0f8ff;}#sk-container-id-1 input.sk-toggleable__control:checked~div.sk-toggleable__content {max-height: 200px;max-width: 100%;overflow: auto;}#sk-container-id-1 input.sk-toggleable__control:checked~label.sk-toggleable__label-arrow:before {content: \"▾\";}#sk-container-id-1 div.sk-estimator input.sk-toggleable__control:checked~label.sk-toggleable__label {background-color: #d4ebff;}#sk-container-id-1 div.sk-label input.sk-toggleable__control:checked~label.sk-toggleable__label {background-color: #d4ebff;}#sk-container-id-1 input.sk-hidden--visually {border: 0;clip: rect(1px 1px 1px 1px);clip: rect(1px, 1px, 1px, 1px);height: 1px;margin: -1px;overflow: hidden;padding: 0;position: absolute;width: 1px;}#sk-container-id-1 div.sk-estimator {font-family: monospace;background-color: #f0f8ff;border: 1px dotted black;border-radius: 0.25em;box-sizing: border-box;margin-bottom: 0.5em;}#sk-container-id-1 div.sk-estimator:hover {background-color: #d4ebff;}#sk-container-id-1 div.sk-parallel-item::after {content: \"\";width: 100%;border-bottom: 1px solid gray;flex-grow: 1;}#sk-container-id-1 div.sk-label:hover label.sk-toggleable__label {background-color: #d4ebff;}#sk-container-id-1 div.sk-serial::before {content: \"\";position: absolute;border-left: 1px solid gray;box-sizing: border-box;top: 0;bottom: 0;left: 50%;z-index: 0;}#sk-container-id-1 div.sk-serial {display: flex;flex-direction: column;align-items: center;background-color: white;padding-right: 0.2em;padding-left: 0.2em;position: relative;}#sk-container-id-1 div.sk-item {position: relative;z-index: 1;}#sk-container-id-1 div.sk-parallel {display: flex;align-items: stretch;justify-content: center;background-color: white;position: relative;}#sk-container-id-1 div.sk-item::before, #sk-container-id-1 div.sk-parallel-item::before {content: \"\";position: absolute;border-left: 1px solid gray;box-sizing: border-box;top: 0;bottom: 0;left: 50%;z-index: -1;}#sk-container-id-1 div.sk-parallel-item {display: flex;flex-direction: column;z-index: 1;position: relative;background-color: white;}#sk-container-id-1 div.sk-parallel-item:first-child::after {align-self: flex-end;width: 50%;}#sk-container-id-1 div.sk-parallel-item:last-child::after {align-self: flex-start;width: 50%;}#sk-container-id-1 div.sk-parallel-item:only-child::after {width: 0;}#sk-container-id-1 div.sk-dashed-wrapped {border: 1px dashed gray;margin: 0 0.4em 0.5em 0.4em;box-sizing: border-box;padding-bottom: 0.4em;background-color: white;}#sk-container-id-1 div.sk-label label {font-family: monospace;font-weight: bold;display: inline-block;line-height: 1.2em;}#sk-container-id-1 div.sk-label-container {text-align: center;}#sk-container-id-1 div.sk-container {/* jupyter's `normalize.less` sets `[hidden] { display: none; }` but bootstrap.min.css set `[hidden] { display: none !important; }` so we also need the `!important` here to be able to override the default hidden behavior on the sphinx rendered scikit-learn.org. See: https://github.com/scikit-learn/scikit-learn/issues/21755 */display: inline-block !important;position: relative;}#sk-container-id-1 div.sk-text-repr-fallback {display: none;}</style><div id=\"sk-container-id-1\" class=\"sk-top-container\"><div class=\"sk-text-repr-fallback\"><pre>LogisticRegression(max_iter=1000)</pre><b>In a Jupyter environment, please rerun this cell to show the HTML representation or trust the notebook. <br />On GitHub, the HTML representation is unable to render, please try loading this page with nbviewer.org.</b></div><div class=\"sk-container\" hidden><div class=\"sk-item\"><div class=\"sk-estimator sk-toggleable\"><input class=\"sk-toggleable__control sk-hidden--visually\" id=\"sk-estimator-id-1\" type=\"checkbox\" checked><label for=\"sk-estimator-id-1\" class=\"sk-toggleable__label sk-toggleable__label-arrow\">LogisticRegression</label><div class=\"sk-toggleable__content\"><pre>LogisticRegression(max_iter=1000)</pre></div></div></div></div></div>"
            ]
          },
          "metadata": {},
          "execution_count": 17
        }
      ]
    },
    {
      "cell_type": "code",
      "source": [
        "y_pred = model.predict(X_test)\n",
        "print(f\"Confusion Matrix is: \\n {confusion_matrix(y_test,y_pred)}\\n\\n\\n\")\n",
        "print(f\"Classification Report is \\n: {classification_report(y_test,y_pred)}\\n\\n\\n\")\n",
        "print(f\"Accuraccy Precent is: \\n {accuracy_score(y_test,y_pred)*100}\\n\\n\\n\")"
      ],
      "metadata": {
        "execution": {
          "iopub.status.busy": "2023-11-30T17:06:32.11686Z",
          "iopub.execute_input": "2023-11-30T17:06:32.11731Z",
          "iopub.status.idle": "2023-11-30T17:06:32.139392Z",
          "shell.execute_reply.started": "2023-11-30T17:06:32.117274Z",
          "shell.execute_reply": "2023-11-30T17:06:32.138111Z"
        },
        "trusted": true,
        "colab": {
          "base_uri": "https://localhost:8080/"
        },
        "id": "qzWAdU3TJ2t-",
        "outputId": "48fab77b-dfc4-4692-b176-0dc298f9ab66"
      },
      "execution_count": null,
      "outputs": [
        {
          "output_type": "stream",
          "name": "stdout",
          "text": [
            "Confusion Matrix is: \n",
            " [[10 10]\n",
            " [ 5 40]]\n",
            "\n",
            "\n",
            "\n",
            "Classification Report is \n",
            ":               precision    recall  f1-score   support\n",
            "\n",
            "           0       0.67      0.50      0.57        20\n",
            "           1       0.80      0.89      0.84        45\n",
            "\n",
            "    accuracy                           0.77        65\n",
            "   macro avg       0.73      0.69      0.71        65\n",
            "weighted avg       0.76      0.77      0.76        65\n",
            "\n",
            "\n",
            "\n",
            "\n",
            "Accuraccy Precent is: \n",
            " 76.92307692307693\n",
            "\n",
            "\n",
            "\n"
          ]
        }
      ]
    },
    {
      "cell_type": "markdown",
      "source": [
        "# Model - 2 Random Forest Classifier"
      ],
      "metadata": {
        "id": "p_LmIN7QJ2t-"
      }
    },
    {
      "cell_type": "code",
      "source": [
        "from sklearn.ensemble import RandomForestClassifier"
      ],
      "metadata": {
        "execution": {
          "iopub.status.busy": "2023-11-30T17:07:00.36672Z",
          "iopub.execute_input": "2023-11-30T17:07:00.367168Z",
          "iopub.status.idle": "2023-11-30T17:07:00.372285Z",
          "shell.execute_reply.started": "2023-11-30T17:07:00.367131Z",
          "shell.execute_reply": "2023-11-30T17:07:00.371017Z"
        },
        "trusted": true,
        "id": "-3b1sntLJ2t-"
      },
      "execution_count": null,
      "outputs": []
    },
    {
      "cell_type": "code",
      "source": [
        "model = RandomForestClassifier()\n",
        "model.fit(X_train,y_train)"
      ],
      "metadata": {
        "execution": {
          "iopub.status.busy": "2023-11-30T17:07:24.547926Z",
          "iopub.execute_input": "2023-11-30T17:07:24.550899Z",
          "iopub.status.idle": "2023-11-30T17:07:24.790754Z",
          "shell.execute_reply.started": "2023-11-30T17:07:24.550833Z",
          "shell.execute_reply": "2023-11-30T17:07:24.789619Z"
        },
        "trusted": true,
        "colab": {
          "base_uri": "https://localhost:8080/",
          "height": 75
        },
        "id": "unQyJkA6J2t_",
        "outputId": "06522302-fd44-48f3-c6c2-30b00b492a4e"
      },
      "execution_count": null,
      "outputs": [
        {
          "output_type": "execute_result",
          "data": {
            "text/plain": [
              "RandomForestClassifier()"
            ],
            "text/html": [
              "<style>#sk-container-id-2 {color: black;background-color: white;}#sk-container-id-2 pre{padding: 0;}#sk-container-id-2 div.sk-toggleable {background-color: white;}#sk-container-id-2 label.sk-toggleable__label {cursor: pointer;display: block;width: 100%;margin-bottom: 0;padding: 0.3em;box-sizing: border-box;text-align: center;}#sk-container-id-2 label.sk-toggleable__label-arrow:before {content: \"▸\";float: left;margin-right: 0.25em;color: #696969;}#sk-container-id-2 label.sk-toggleable__label-arrow:hover:before {color: black;}#sk-container-id-2 div.sk-estimator:hover label.sk-toggleable__label-arrow:before {color: black;}#sk-container-id-2 div.sk-toggleable__content {max-height: 0;max-width: 0;overflow: hidden;text-align: left;background-color: #f0f8ff;}#sk-container-id-2 div.sk-toggleable__content pre {margin: 0.2em;color: black;border-radius: 0.25em;background-color: #f0f8ff;}#sk-container-id-2 input.sk-toggleable__control:checked~div.sk-toggleable__content {max-height: 200px;max-width: 100%;overflow: auto;}#sk-container-id-2 input.sk-toggleable__control:checked~label.sk-toggleable__label-arrow:before {content: \"▾\";}#sk-container-id-2 div.sk-estimator input.sk-toggleable__control:checked~label.sk-toggleable__label {background-color: #d4ebff;}#sk-container-id-2 div.sk-label input.sk-toggleable__control:checked~label.sk-toggleable__label {background-color: #d4ebff;}#sk-container-id-2 input.sk-hidden--visually {border: 0;clip: rect(1px 1px 1px 1px);clip: rect(1px, 1px, 1px, 1px);height: 1px;margin: -1px;overflow: hidden;padding: 0;position: absolute;width: 1px;}#sk-container-id-2 div.sk-estimator {font-family: monospace;background-color: #f0f8ff;border: 1px dotted black;border-radius: 0.25em;box-sizing: border-box;margin-bottom: 0.5em;}#sk-container-id-2 div.sk-estimator:hover {background-color: #d4ebff;}#sk-container-id-2 div.sk-parallel-item::after {content: \"\";width: 100%;border-bottom: 1px solid gray;flex-grow: 1;}#sk-container-id-2 div.sk-label:hover label.sk-toggleable__label {background-color: #d4ebff;}#sk-container-id-2 div.sk-serial::before {content: \"\";position: absolute;border-left: 1px solid gray;box-sizing: border-box;top: 0;bottom: 0;left: 50%;z-index: 0;}#sk-container-id-2 div.sk-serial {display: flex;flex-direction: column;align-items: center;background-color: white;padding-right: 0.2em;padding-left: 0.2em;position: relative;}#sk-container-id-2 div.sk-item {position: relative;z-index: 1;}#sk-container-id-2 div.sk-parallel {display: flex;align-items: stretch;justify-content: center;background-color: white;position: relative;}#sk-container-id-2 div.sk-item::before, #sk-container-id-2 div.sk-parallel-item::before {content: \"\";position: absolute;border-left: 1px solid gray;box-sizing: border-box;top: 0;bottom: 0;left: 50%;z-index: -1;}#sk-container-id-2 div.sk-parallel-item {display: flex;flex-direction: column;z-index: 1;position: relative;background-color: white;}#sk-container-id-2 div.sk-parallel-item:first-child::after {align-self: flex-end;width: 50%;}#sk-container-id-2 div.sk-parallel-item:last-child::after {align-self: flex-start;width: 50%;}#sk-container-id-2 div.sk-parallel-item:only-child::after {width: 0;}#sk-container-id-2 div.sk-dashed-wrapped {border: 1px dashed gray;margin: 0 0.4em 0.5em 0.4em;box-sizing: border-box;padding-bottom: 0.4em;background-color: white;}#sk-container-id-2 div.sk-label label {font-family: monospace;font-weight: bold;display: inline-block;line-height: 1.2em;}#sk-container-id-2 div.sk-label-container {text-align: center;}#sk-container-id-2 div.sk-container {/* jupyter's `normalize.less` sets `[hidden] { display: none; }` but bootstrap.min.css set `[hidden] { display: none !important; }` so we also need the `!important` here to be able to override the default hidden behavior on the sphinx rendered scikit-learn.org. See: https://github.com/scikit-learn/scikit-learn/issues/21755 */display: inline-block !important;position: relative;}#sk-container-id-2 div.sk-text-repr-fallback {display: none;}</style><div id=\"sk-container-id-2\" class=\"sk-top-container\"><div class=\"sk-text-repr-fallback\"><pre>RandomForestClassifier()</pre><b>In a Jupyter environment, please rerun this cell to show the HTML representation or trust the notebook. <br />On GitHub, the HTML representation is unable to render, please try loading this page with nbviewer.org.</b></div><div class=\"sk-container\" hidden><div class=\"sk-item\"><div class=\"sk-estimator sk-toggleable\"><input class=\"sk-toggleable__control sk-hidden--visually\" id=\"sk-estimator-id-2\" type=\"checkbox\" checked><label for=\"sk-estimator-id-2\" class=\"sk-toggleable__label sk-toggleable__label-arrow\">RandomForestClassifier</label><div class=\"sk-toggleable__content\"><pre>RandomForestClassifier()</pre></div></div></div></div></div>"
            ]
          },
          "metadata": {},
          "execution_count": 20
        }
      ]
    },
    {
      "cell_type": "code",
      "source": [
        "y_pred = model.predict(X_test)\n",
        "print(f\"Confusion Matrix is: \\n {confusion_matrix(y_test,y_pred)}\\n\\n\\n\")\n",
        "print(f\"Classification Report is \\n: {classification_report(y_test,y_pred)}\\n\\n\\n\")\n",
        "print(f\"Accuraccy Precent is: \\n {accuracy_score(y_test,y_pred)*100}\\n\\n\\n\")"
      ],
      "metadata": {
        "execution": {
          "iopub.status.busy": "2023-11-30T17:07:43.927243Z",
          "iopub.execute_input": "2023-11-30T17:07:43.928123Z",
          "iopub.status.idle": "2023-11-30T17:07:43.956482Z",
          "shell.execute_reply.started": "2023-11-30T17:07:43.928074Z",
          "shell.execute_reply": "2023-11-30T17:07:43.955304Z"
        },
        "trusted": true,
        "colab": {
          "base_uri": "https://localhost:8080/"
        },
        "id": "_TWfY9vnJ2t_",
        "outputId": "531bbfae-0fbd-448e-cfb4-ccfb5e845925"
      },
      "execution_count": null,
      "outputs": [
        {
          "output_type": "stream",
          "name": "stdout",
          "text": [
            "Confusion Matrix is: \n",
            " [[14  6]\n",
            " [ 1 44]]\n",
            "\n",
            "\n",
            "\n",
            "Classification Report is \n",
            ":               precision    recall  f1-score   support\n",
            "\n",
            "           0       0.93      0.70      0.80        20\n",
            "           1       0.88      0.98      0.93        45\n",
            "\n",
            "    accuracy                           0.89        65\n",
            "   macro avg       0.91      0.84      0.86        65\n",
            "weighted avg       0.90      0.89      0.89        65\n",
            "\n",
            "\n",
            "\n",
            "\n",
            "Accuraccy Precent is: \n",
            " 89.23076923076924\n",
            "\n",
            "\n",
            "\n"
          ]
        }
      ]
    },
    {
      "cell_type": "markdown",
      "source": [
        "# Model - 3 Decision Tree"
      ],
      "metadata": {
        "id": "PJaE_xL0J2uA"
      }
    },
    {
      "cell_type": "code",
      "source": [
        "from sklearn.tree import DecisionTreeClassifier"
      ],
      "metadata": {
        "execution": {
          "iopub.status.busy": "2023-11-30T17:08:05.501813Z",
          "iopub.execute_input": "2023-11-30T17:08:05.50225Z",
          "iopub.status.idle": "2023-11-30T17:08:05.507485Z",
          "shell.execute_reply.started": "2023-11-30T17:08:05.502215Z",
          "shell.execute_reply": "2023-11-30T17:08:05.506307Z"
        },
        "trusted": true,
        "id": "g-bpoRYfJ2uA"
      },
      "execution_count": null,
      "outputs": []
    },
    {
      "cell_type": "code",
      "source": [
        "model = DecisionTreeClassifier()\n",
        "model.fit(X_train,y_train)"
      ],
      "metadata": {
        "execution": {
          "iopub.status.busy": "2023-11-30T17:08:19.646869Z",
          "iopub.execute_input": "2023-11-30T17:08:19.647318Z",
          "iopub.status.idle": "2023-11-30T17:08:19.659541Z",
          "shell.execute_reply.started": "2023-11-30T17:08:19.647285Z",
          "shell.execute_reply": "2023-11-30T17:08:19.658349Z"
        },
        "trusted": true,
        "colab": {
          "base_uri": "https://localhost:8080/",
          "height": 75
        },
        "id": "VC2lvQtEJ2uB",
        "outputId": "2739fef0-5434-4e46-e4e4-ba071f86d58b"
      },
      "execution_count": null,
      "outputs": [
        {
          "output_type": "execute_result",
          "data": {
            "text/plain": [
              "DecisionTreeClassifier()"
            ],
            "text/html": [
              "<style>#sk-container-id-3 {color: black;background-color: white;}#sk-container-id-3 pre{padding: 0;}#sk-container-id-3 div.sk-toggleable {background-color: white;}#sk-container-id-3 label.sk-toggleable__label {cursor: pointer;display: block;width: 100%;margin-bottom: 0;padding: 0.3em;box-sizing: border-box;text-align: center;}#sk-container-id-3 label.sk-toggleable__label-arrow:before {content: \"▸\";float: left;margin-right: 0.25em;color: #696969;}#sk-container-id-3 label.sk-toggleable__label-arrow:hover:before {color: black;}#sk-container-id-3 div.sk-estimator:hover label.sk-toggleable__label-arrow:before {color: black;}#sk-container-id-3 div.sk-toggleable__content {max-height: 0;max-width: 0;overflow: hidden;text-align: left;background-color: #f0f8ff;}#sk-container-id-3 div.sk-toggleable__content pre {margin: 0.2em;color: black;border-radius: 0.25em;background-color: #f0f8ff;}#sk-container-id-3 input.sk-toggleable__control:checked~div.sk-toggleable__content {max-height: 200px;max-width: 100%;overflow: auto;}#sk-container-id-3 input.sk-toggleable__control:checked~label.sk-toggleable__label-arrow:before {content: \"▾\";}#sk-container-id-3 div.sk-estimator input.sk-toggleable__control:checked~label.sk-toggleable__label {background-color: #d4ebff;}#sk-container-id-3 div.sk-label input.sk-toggleable__control:checked~label.sk-toggleable__label {background-color: #d4ebff;}#sk-container-id-3 input.sk-hidden--visually {border: 0;clip: rect(1px 1px 1px 1px);clip: rect(1px, 1px, 1px, 1px);height: 1px;margin: -1px;overflow: hidden;padding: 0;position: absolute;width: 1px;}#sk-container-id-3 div.sk-estimator {font-family: monospace;background-color: #f0f8ff;border: 1px dotted black;border-radius: 0.25em;box-sizing: border-box;margin-bottom: 0.5em;}#sk-container-id-3 div.sk-estimator:hover {background-color: #d4ebff;}#sk-container-id-3 div.sk-parallel-item::after {content: \"\";width: 100%;border-bottom: 1px solid gray;flex-grow: 1;}#sk-container-id-3 div.sk-label:hover label.sk-toggleable__label {background-color: #d4ebff;}#sk-container-id-3 div.sk-serial::before {content: \"\";position: absolute;border-left: 1px solid gray;box-sizing: border-box;top: 0;bottom: 0;left: 50%;z-index: 0;}#sk-container-id-3 div.sk-serial {display: flex;flex-direction: column;align-items: center;background-color: white;padding-right: 0.2em;padding-left: 0.2em;position: relative;}#sk-container-id-3 div.sk-item {position: relative;z-index: 1;}#sk-container-id-3 div.sk-parallel {display: flex;align-items: stretch;justify-content: center;background-color: white;position: relative;}#sk-container-id-3 div.sk-item::before, #sk-container-id-3 div.sk-parallel-item::before {content: \"\";position: absolute;border-left: 1px solid gray;box-sizing: border-box;top: 0;bottom: 0;left: 50%;z-index: -1;}#sk-container-id-3 div.sk-parallel-item {display: flex;flex-direction: column;z-index: 1;position: relative;background-color: white;}#sk-container-id-3 div.sk-parallel-item:first-child::after {align-self: flex-end;width: 50%;}#sk-container-id-3 div.sk-parallel-item:last-child::after {align-self: flex-start;width: 50%;}#sk-container-id-3 div.sk-parallel-item:only-child::after {width: 0;}#sk-container-id-3 div.sk-dashed-wrapped {border: 1px dashed gray;margin: 0 0.4em 0.5em 0.4em;box-sizing: border-box;padding-bottom: 0.4em;background-color: white;}#sk-container-id-3 div.sk-label label {font-family: monospace;font-weight: bold;display: inline-block;line-height: 1.2em;}#sk-container-id-3 div.sk-label-container {text-align: center;}#sk-container-id-3 div.sk-container {/* jupyter's `normalize.less` sets `[hidden] { display: none; }` but bootstrap.min.css set `[hidden] { display: none !important; }` so we also need the `!important` here to be able to override the default hidden behavior on the sphinx rendered scikit-learn.org. See: https://github.com/scikit-learn/scikit-learn/issues/21755 */display: inline-block !important;position: relative;}#sk-container-id-3 div.sk-text-repr-fallback {display: none;}</style><div id=\"sk-container-id-3\" class=\"sk-top-container\"><div class=\"sk-text-repr-fallback\"><pre>DecisionTreeClassifier()</pre><b>In a Jupyter environment, please rerun this cell to show the HTML representation or trust the notebook. <br />On GitHub, the HTML representation is unable to render, please try loading this page with nbviewer.org.</b></div><div class=\"sk-container\" hidden><div class=\"sk-item\"><div class=\"sk-estimator sk-toggleable\"><input class=\"sk-toggleable__control sk-hidden--visually\" id=\"sk-estimator-id-3\" type=\"checkbox\" checked><label for=\"sk-estimator-id-3\" class=\"sk-toggleable__label sk-toggleable__label-arrow\">DecisionTreeClassifier</label><div class=\"sk-toggleable__content\"><pre>DecisionTreeClassifier()</pre></div></div></div></div></div>"
            ]
          },
          "metadata": {},
          "execution_count": 23
        }
      ]
    },
    {
      "cell_type": "code",
      "source": [
        "y_pred = model.predict(X_test)\n",
        "print(f\"Confusion Matrix is: \\n {confusion_matrix(y_test,y_pred)}\\n\\n\\n\")\n",
        "print(f\"Classification Report is \\n: {classification_report(y_test,y_pred)}\\n\\n\\n\")\n",
        "print(f\"Accuraccy Precent is: \\n {accuracy_score(y_test,y_pred)*100}\\n\\n\\n\")"
      ],
      "metadata": {
        "execution": {
          "iopub.status.busy": "2023-11-30T17:08:28.597624Z",
          "iopub.execute_input": "2023-11-30T17:08:28.598495Z",
          "iopub.status.idle": "2023-11-30T17:08:28.620501Z",
          "shell.execute_reply.started": "2023-11-30T17:08:28.598446Z",
          "shell.execute_reply": "2023-11-30T17:08:28.619175Z"
        },
        "trusted": true,
        "colab": {
          "base_uri": "https://localhost:8080/"
        },
        "id": "unjQww4ZJ2uB",
        "outputId": "30fb03f2-d97b-405c-851e-fea96410de16"
      },
      "execution_count": null,
      "outputs": [
        {
          "output_type": "stream",
          "name": "stdout",
          "text": [
            "Confusion Matrix is: \n",
            " [[20  0]\n",
            " [ 2 43]]\n",
            "\n",
            "\n",
            "\n",
            "Classification Report is \n",
            ":               precision    recall  f1-score   support\n",
            "\n",
            "           0       0.91      1.00      0.95        20\n",
            "           1       1.00      0.96      0.98        45\n",
            "\n",
            "    accuracy                           0.97        65\n",
            "   macro avg       0.95      0.98      0.96        65\n",
            "weighted avg       0.97      0.97      0.97        65\n",
            "\n",
            "\n",
            "\n",
            "\n",
            "Accuraccy Precent is: \n",
            " 96.92307692307692\n",
            "\n",
            "\n",
            "\n"
          ]
        }
      ]
    },
    {
      "cell_type": "markdown",
      "source": [
        "# Model - 4 KNeighbor(KNN)"
      ],
      "metadata": {
        "id": "wiJ8VjaoJ2uC"
      }
    },
    {
      "cell_type": "code",
      "source": [
        "from sklearn.neighbors import KNeighborsClassifier"
      ],
      "metadata": {
        "execution": {
          "iopub.status.busy": "2023-11-30T17:09:55.496933Z",
          "iopub.execute_input": "2023-11-30T17:09:55.497392Z",
          "iopub.status.idle": "2023-11-30T17:09:55.502161Z",
          "shell.execute_reply.started": "2023-11-30T17:09:55.497347Z",
          "shell.execute_reply": "2023-11-30T17:09:55.501297Z"
        },
        "trusted": true,
        "id": "qhNUywqrJ2uC"
      },
      "execution_count": null,
      "outputs": []
    },
    {
      "cell_type": "code",
      "source": [
        "model = KNeighborsClassifier()\n",
        "model.fit(X_train,y_train)"
      ],
      "metadata": {
        "execution": {
          "iopub.status.busy": "2023-11-30T17:10:01.476753Z",
          "iopub.execute_input": "2023-11-30T17:10:01.47757Z",
          "iopub.status.idle": "2023-11-30T17:10:01.489346Z",
          "shell.execute_reply.started": "2023-11-30T17:10:01.477532Z",
          "shell.execute_reply": "2023-11-30T17:10:01.488024Z"
        },
        "trusted": true,
        "colab": {
          "base_uri": "https://localhost:8080/",
          "height": 75
        },
        "id": "wFTgnSa-J2uC",
        "outputId": "906cb753-b4cf-4690-c9a1-d2ef6ded6f88"
      },
      "execution_count": null,
      "outputs": [
        {
          "output_type": "execute_result",
          "data": {
            "text/plain": [
              "KNeighborsClassifier()"
            ],
            "text/html": [
              "<style>#sk-container-id-4 {color: black;background-color: white;}#sk-container-id-4 pre{padding: 0;}#sk-container-id-4 div.sk-toggleable {background-color: white;}#sk-container-id-4 label.sk-toggleable__label {cursor: pointer;display: block;width: 100%;margin-bottom: 0;padding: 0.3em;box-sizing: border-box;text-align: center;}#sk-container-id-4 label.sk-toggleable__label-arrow:before {content: \"▸\";float: left;margin-right: 0.25em;color: #696969;}#sk-container-id-4 label.sk-toggleable__label-arrow:hover:before {color: black;}#sk-container-id-4 div.sk-estimator:hover label.sk-toggleable__label-arrow:before {color: black;}#sk-container-id-4 div.sk-toggleable__content {max-height: 0;max-width: 0;overflow: hidden;text-align: left;background-color: #f0f8ff;}#sk-container-id-4 div.sk-toggleable__content pre {margin: 0.2em;color: black;border-radius: 0.25em;background-color: #f0f8ff;}#sk-container-id-4 input.sk-toggleable__control:checked~div.sk-toggleable__content {max-height: 200px;max-width: 100%;overflow: auto;}#sk-container-id-4 input.sk-toggleable__control:checked~label.sk-toggleable__label-arrow:before {content: \"▾\";}#sk-container-id-4 div.sk-estimator input.sk-toggleable__control:checked~label.sk-toggleable__label {background-color: #d4ebff;}#sk-container-id-4 div.sk-label input.sk-toggleable__control:checked~label.sk-toggleable__label {background-color: #d4ebff;}#sk-container-id-4 input.sk-hidden--visually {border: 0;clip: rect(1px 1px 1px 1px);clip: rect(1px, 1px, 1px, 1px);height: 1px;margin: -1px;overflow: hidden;padding: 0;position: absolute;width: 1px;}#sk-container-id-4 div.sk-estimator {font-family: monospace;background-color: #f0f8ff;border: 1px dotted black;border-radius: 0.25em;box-sizing: border-box;margin-bottom: 0.5em;}#sk-container-id-4 div.sk-estimator:hover {background-color: #d4ebff;}#sk-container-id-4 div.sk-parallel-item::after {content: \"\";width: 100%;border-bottom: 1px solid gray;flex-grow: 1;}#sk-container-id-4 div.sk-label:hover label.sk-toggleable__label {background-color: #d4ebff;}#sk-container-id-4 div.sk-serial::before {content: \"\";position: absolute;border-left: 1px solid gray;box-sizing: border-box;top: 0;bottom: 0;left: 50%;z-index: 0;}#sk-container-id-4 div.sk-serial {display: flex;flex-direction: column;align-items: center;background-color: white;padding-right: 0.2em;padding-left: 0.2em;position: relative;}#sk-container-id-4 div.sk-item {position: relative;z-index: 1;}#sk-container-id-4 div.sk-parallel {display: flex;align-items: stretch;justify-content: center;background-color: white;position: relative;}#sk-container-id-4 div.sk-item::before, #sk-container-id-4 div.sk-parallel-item::before {content: \"\";position: absolute;border-left: 1px solid gray;box-sizing: border-box;top: 0;bottom: 0;left: 50%;z-index: -1;}#sk-container-id-4 div.sk-parallel-item {display: flex;flex-direction: column;z-index: 1;position: relative;background-color: white;}#sk-container-id-4 div.sk-parallel-item:first-child::after {align-self: flex-end;width: 50%;}#sk-container-id-4 div.sk-parallel-item:last-child::after {align-self: flex-start;width: 50%;}#sk-container-id-4 div.sk-parallel-item:only-child::after {width: 0;}#sk-container-id-4 div.sk-dashed-wrapped {border: 1px dashed gray;margin: 0 0.4em 0.5em 0.4em;box-sizing: border-box;padding-bottom: 0.4em;background-color: white;}#sk-container-id-4 div.sk-label label {font-family: monospace;font-weight: bold;display: inline-block;line-height: 1.2em;}#sk-container-id-4 div.sk-label-container {text-align: center;}#sk-container-id-4 div.sk-container {/* jupyter's `normalize.less` sets `[hidden] { display: none; }` but bootstrap.min.css set `[hidden] { display: none !important; }` so we also need the `!important` here to be able to override the default hidden behavior on the sphinx rendered scikit-learn.org. See: https://github.com/scikit-learn/scikit-learn/issues/21755 */display: inline-block !important;position: relative;}#sk-container-id-4 div.sk-text-repr-fallback {display: none;}</style><div id=\"sk-container-id-4\" class=\"sk-top-container\"><div class=\"sk-text-repr-fallback\"><pre>KNeighborsClassifier()</pre><b>In a Jupyter environment, please rerun this cell to show the HTML representation or trust the notebook. <br />On GitHub, the HTML representation is unable to render, please try loading this page with nbviewer.org.</b></div><div class=\"sk-container\" hidden><div class=\"sk-item\"><div class=\"sk-estimator sk-toggleable\"><input class=\"sk-toggleable__control sk-hidden--visually\" id=\"sk-estimator-id-4\" type=\"checkbox\" checked><label for=\"sk-estimator-id-4\" class=\"sk-toggleable__label sk-toggleable__label-arrow\">KNeighborsClassifier</label><div class=\"sk-toggleable__content\"><pre>KNeighborsClassifier()</pre></div></div></div></div></div>"
            ]
          },
          "metadata": {},
          "execution_count": 26
        }
      ]
    },
    {
      "cell_type": "code",
      "source": [
        "y_pred = model.predict(X_test)\n",
        "print(f\"Confusion Matrix is: \\n {confusion_matrix(y_test,y_pred)}\\n\\n\\n\")\n",
        "print(f\"Classification Report is \\n: {classification_report(y_test,y_pred)}\\n\\n\\n\")\n",
        "print(f\"Accuraccy Precent is: \\n {accuracy_score(y_test,y_pred)*100}\\n\\n\\n\")"
      ],
      "metadata": {
        "execution": {
          "iopub.status.busy": "2023-11-30T17:10:02.14687Z",
          "iopub.execute_input": "2023-11-30T17:10:02.147292Z",
          "iopub.status.idle": "2023-11-30T17:10:02.180319Z",
          "shell.execute_reply.started": "2023-11-30T17:10:02.147261Z",
          "shell.execute_reply": "2023-11-30T17:10:02.17904Z"
        },
        "trusted": true,
        "colab": {
          "base_uri": "https://localhost:8080/"
        },
        "id": "Qq7i_zvhJ2uD",
        "outputId": "ec6fb184-bf86-441e-f8aa-e9e201341b3c"
      },
      "execution_count": null,
      "outputs": [
        {
          "output_type": "stream",
          "name": "stdout",
          "text": [
            "Confusion Matrix is: \n",
            " [[20  0]\n",
            " [ 2 43]]\n",
            "\n",
            "\n",
            "\n",
            "Classification Report is \n",
            ":               precision    recall  f1-score   support\n",
            "\n",
            "           0       0.91      1.00      0.95        20\n",
            "           1       1.00      0.96      0.98        45\n",
            "\n",
            "    accuracy                           0.97        65\n",
            "   macro avg       0.95      0.98      0.96        65\n",
            "weighted avg       0.97      0.97      0.97        65\n",
            "\n",
            "\n",
            "\n",
            "\n",
            "Accuraccy Precent is: \n",
            " 96.92307692307692\n",
            "\n",
            "\n",
            "\n"
          ]
        }
      ]
    },
    {
      "cell_type": "markdown",
      "source": [
        "# Model - 5 Naive Bayes"
      ],
      "metadata": {
        "id": "0bWHAxlsJ2uD"
      }
    },
    {
      "cell_type": "code",
      "source": [
        "from sklearn.naive_bayes import GaussianNB"
      ],
      "metadata": {
        "execution": {
          "iopub.status.busy": "2023-11-30T17:16:15.447089Z",
          "iopub.execute_input": "2023-11-30T17:16:15.447592Z",
          "iopub.status.idle": "2023-11-30T17:16:15.457959Z",
          "shell.execute_reply.started": "2023-11-30T17:16:15.447556Z",
          "shell.execute_reply": "2023-11-30T17:16:15.456304Z"
        },
        "trusted": true,
        "id": "XydgE_9EJ2uE"
      },
      "execution_count": null,
      "outputs": []
    },
    {
      "cell_type": "code",
      "source": [
        "model = GaussianNB()\n",
        "model.fit(X_train,y_train)"
      ],
      "metadata": {
        "execution": {
          "iopub.status.busy": "2023-11-30T17:16:36.956681Z",
          "iopub.execute_input": "2023-11-30T17:16:36.957118Z",
          "iopub.status.idle": "2023-11-30T17:16:36.975514Z",
          "shell.execute_reply.started": "2023-11-30T17:16:36.95708Z",
          "shell.execute_reply": "2023-11-30T17:16:36.974135Z"
        },
        "trusted": true,
        "colab": {
          "base_uri": "https://localhost:8080/",
          "height": 75
        },
        "id": "TOvX3S9QJ2uE",
        "outputId": "bb6ad4c0-a838-4063-c59e-2bfedb4d901b"
      },
      "execution_count": null,
      "outputs": [
        {
          "output_type": "execute_result",
          "data": {
            "text/plain": [
              "GaussianNB()"
            ],
            "text/html": [
              "<style>#sk-container-id-5 {color: black;background-color: white;}#sk-container-id-5 pre{padding: 0;}#sk-container-id-5 div.sk-toggleable {background-color: white;}#sk-container-id-5 label.sk-toggleable__label {cursor: pointer;display: block;width: 100%;margin-bottom: 0;padding: 0.3em;box-sizing: border-box;text-align: center;}#sk-container-id-5 label.sk-toggleable__label-arrow:before {content: \"▸\";float: left;margin-right: 0.25em;color: #696969;}#sk-container-id-5 label.sk-toggleable__label-arrow:hover:before {color: black;}#sk-container-id-5 div.sk-estimator:hover label.sk-toggleable__label-arrow:before {color: black;}#sk-container-id-5 div.sk-toggleable__content {max-height: 0;max-width: 0;overflow: hidden;text-align: left;background-color: #f0f8ff;}#sk-container-id-5 div.sk-toggleable__content pre {margin: 0.2em;color: black;border-radius: 0.25em;background-color: #f0f8ff;}#sk-container-id-5 input.sk-toggleable__control:checked~div.sk-toggleable__content {max-height: 200px;max-width: 100%;overflow: auto;}#sk-container-id-5 input.sk-toggleable__control:checked~label.sk-toggleable__label-arrow:before {content: \"▾\";}#sk-container-id-5 div.sk-estimator input.sk-toggleable__control:checked~label.sk-toggleable__label {background-color: #d4ebff;}#sk-container-id-5 div.sk-label input.sk-toggleable__control:checked~label.sk-toggleable__label {background-color: #d4ebff;}#sk-container-id-5 input.sk-hidden--visually {border: 0;clip: rect(1px 1px 1px 1px);clip: rect(1px, 1px, 1px, 1px);height: 1px;margin: -1px;overflow: hidden;padding: 0;position: absolute;width: 1px;}#sk-container-id-5 div.sk-estimator {font-family: monospace;background-color: #f0f8ff;border: 1px dotted black;border-radius: 0.25em;box-sizing: border-box;margin-bottom: 0.5em;}#sk-container-id-5 div.sk-estimator:hover {background-color: #d4ebff;}#sk-container-id-5 div.sk-parallel-item::after {content: \"\";width: 100%;border-bottom: 1px solid gray;flex-grow: 1;}#sk-container-id-5 div.sk-label:hover label.sk-toggleable__label {background-color: #d4ebff;}#sk-container-id-5 div.sk-serial::before {content: \"\";position: absolute;border-left: 1px solid gray;box-sizing: border-box;top: 0;bottom: 0;left: 50%;z-index: 0;}#sk-container-id-5 div.sk-serial {display: flex;flex-direction: column;align-items: center;background-color: white;padding-right: 0.2em;padding-left: 0.2em;position: relative;}#sk-container-id-5 div.sk-item {position: relative;z-index: 1;}#sk-container-id-5 div.sk-parallel {display: flex;align-items: stretch;justify-content: center;background-color: white;position: relative;}#sk-container-id-5 div.sk-item::before, #sk-container-id-5 div.sk-parallel-item::before {content: \"\";position: absolute;border-left: 1px solid gray;box-sizing: border-box;top: 0;bottom: 0;left: 50%;z-index: -1;}#sk-container-id-5 div.sk-parallel-item {display: flex;flex-direction: column;z-index: 1;position: relative;background-color: white;}#sk-container-id-5 div.sk-parallel-item:first-child::after {align-self: flex-end;width: 50%;}#sk-container-id-5 div.sk-parallel-item:last-child::after {align-self: flex-start;width: 50%;}#sk-container-id-5 div.sk-parallel-item:only-child::after {width: 0;}#sk-container-id-5 div.sk-dashed-wrapped {border: 1px dashed gray;margin: 0 0.4em 0.5em 0.4em;box-sizing: border-box;padding-bottom: 0.4em;background-color: white;}#sk-container-id-5 div.sk-label label {font-family: monospace;font-weight: bold;display: inline-block;line-height: 1.2em;}#sk-container-id-5 div.sk-label-container {text-align: center;}#sk-container-id-5 div.sk-container {/* jupyter's `normalize.less` sets `[hidden] { display: none; }` but bootstrap.min.css set `[hidden] { display: none !important; }` so we also need the `!important` here to be able to override the default hidden behavior on the sphinx rendered scikit-learn.org. See: https://github.com/scikit-learn/scikit-learn/issues/21755 */display: inline-block !important;position: relative;}#sk-container-id-5 div.sk-text-repr-fallback {display: none;}</style><div id=\"sk-container-id-5\" class=\"sk-top-container\"><div class=\"sk-text-repr-fallback\"><pre>GaussianNB()</pre><b>In a Jupyter environment, please rerun this cell to show the HTML representation or trust the notebook. <br />On GitHub, the HTML representation is unable to render, please try loading this page with nbviewer.org.</b></div><div class=\"sk-container\" hidden><div class=\"sk-item\"><div class=\"sk-estimator sk-toggleable\"><input class=\"sk-toggleable__control sk-hidden--visually\" id=\"sk-estimator-id-5\" type=\"checkbox\" checked><label for=\"sk-estimator-id-5\" class=\"sk-toggleable__label sk-toggleable__label-arrow\">GaussianNB</label><div class=\"sk-toggleable__content\"><pre>GaussianNB()</pre></div></div></div></div></div>"
            ]
          },
          "metadata": {},
          "execution_count": 29
        }
      ]
    },
    {
      "cell_type": "code",
      "source": [
        "y_pred = model.predict(X_test)\n",
        "print(f\"Confusion Matrix is: \\n {confusion_matrix(y_test,y_pred)}\\n\\n\\n\")\n",
        "print(f\"Classification Report is \\n: {classification_report(y_test,y_pred)}\\n\\n\\n\")\n",
        "print(f\"Accuraccy Precent is: \\n {accuracy_score(y_test,y_pred)*100}\\n\\n\\n\")"
      ],
      "metadata": {
        "execution": {
          "iopub.status.busy": "2023-11-30T17:16:51.756703Z",
          "iopub.execute_input": "2023-11-30T17:16:51.757143Z",
          "iopub.status.idle": "2023-11-30T17:16:51.783954Z",
          "shell.execute_reply.started": "2023-11-30T17:16:51.757108Z",
          "shell.execute_reply": "2023-11-30T17:16:51.782672Z"
        },
        "trusted": true,
        "colab": {
          "base_uri": "https://localhost:8080/"
        },
        "id": "6hvlOxUvJ2uE",
        "outputId": "434600c0-16ed-4c7e-c83d-2d9c475838f1"
      },
      "execution_count": null,
      "outputs": [
        {
          "output_type": "stream",
          "name": "stdout",
          "text": [
            "Confusion Matrix is: \n",
            " [[20  0]\n",
            " [ 0 45]]\n",
            "\n",
            "\n",
            "\n",
            "Classification Report is \n",
            ":               precision    recall  f1-score   support\n",
            "\n",
            "           0       1.00      1.00      1.00        20\n",
            "           1       1.00      1.00      1.00        45\n",
            "\n",
            "    accuracy                           1.00        65\n",
            "   macro avg       1.00      1.00      1.00        65\n",
            "weighted avg       1.00      1.00      1.00        65\n",
            "\n",
            "\n",
            "\n",
            "\n",
            "Accuraccy Precent is: \n",
            " 100.0\n",
            "\n",
            "\n",
            "\n"
          ]
        }
      ]
    }
  ]
}